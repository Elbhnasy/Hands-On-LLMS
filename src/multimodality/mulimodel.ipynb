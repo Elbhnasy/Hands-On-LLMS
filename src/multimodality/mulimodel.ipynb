{
 "cells": [
  {
   "cell_type": "markdown",
   "id": "d990a044",
   "metadata": {},
   "source": [
    "# Multi-modal RAG with LangChain"
   ]
  },
  {
   "cell_type": "markdown",
   "id": "66136e63",
   "metadata": {},
   "source": [
    "## Extract the data\n",
    "\n",
    "Extract the elements of the PDF that we will be able to use in the retrieval process. These elements can be: Text, Images, Tables, etc."
   ]
  },
  {
   "cell_type": "markdown",
   "id": "a9872967",
   "metadata": {},
   "source": [
    "### Partition PDF tables, text, and images"
   ]
  },
  {
   "cell_type": "code",
   "execution_count": 6,
   "id": "e919fe93",
   "metadata": {},
   "outputs": [],
   "source": [
    "from unstructured.partition.pdf import partition_pdf"
   ]
  },
  {
   "cell_type": "code",
   "execution_count": 7,
   "id": "e3134a19",
   "metadata": {},
   "outputs": [
    {
     "name": "stderr",
     "output_type": "stream",
     "text": [
      "The `max_size` parameter is deprecated and will be removed in v4.26. Please specify in `size['longest_edge'] instead`.\n"
     ]
    }
   ],
   "source": [
    "file_path = '/home/elbahnasy/CodingWorkspace/Hands-On-LLMS/src/multimodality/attentionis all youneeed.pdf'\n",
    "chunks = partition_pdf(\n",
    "    filename=file_path,\n",
    "    infer_table_structure=True,\n",
    "    strategy=\"hi_res\",\n",
    "    extract_image_block_types=[\"Image\"],\n",
    "    extract_image_block_to_payload=True,\n",
    "    chunking_strategy=\"by_title\",\n",
    "    languages=[\"ar\", \"en\"]\n",
    "    )"
   ]
  },
  {
   "cell_type": "code",
   "execution_count": 8,
   "id": "3ec42713",
   "metadata": {},
   "outputs": [
    {
     "data": {
      "text/plain": [
       "{\"<class 'unstructured.documents.elements.CompositeElement'>\",\n",
       " \"<class 'unstructured.documents.elements.TableChunk'>\"}"
      ]
     },
     "execution_count": 8,
     "metadata": {},
     "output_type": "execute_result"
    }
   ],
   "source": [
    "set([str(type(chunk)) for chunk in chunks])"
   ]
  },
  {
   "cell_type": "code",
   "execution_count": 9,
   "id": "cb129717",
   "metadata": {},
   "outputs": [
    {
     "data": {
      "text/plain": [
       "[<unstructured.documents.elements.Title at 0x71d875c2c4b0>,\n",
       " <unstructured.documents.elements.Image at 0x71d8817f1310>,\n",
       " <unstructured.documents.elements.Image at 0x71d8817f11d0>,\n",
       " <unstructured.documents.elements.NarrativeText at 0x71d845013b60>,\n",
       " <unstructured.documents.elements.NarrativeText at 0x71d845013850>]"
      ]
     },
     "execution_count": 9,
     "metadata": {},
     "output_type": "execute_result"
    }
   ],
   "source": [
    "chunks[26].metadata.orig_elements"
   ]
  },
  {
   "cell_type": "code",
   "execution_count": 10,
   "id": "4a907ff8",
   "metadata": {},
   "outputs": [
    {
     "data": {
      "text/plain": [
       "{'type': 'Image',\n",
       " 'element_id': '84d1b9da-f0aa-4f77-9d40-af9c2991300c',\n",
       " 'text': '',\n",
       " 'metadata': {'coordinates': {'points': ((np.float64(486.0),\n",
       "     np.float64(261.1805555555558)),\n",
       "    (np.float64(486.0), np.float64(614.7805555555556)),\n",
       "    (np.float64(664.0), np.float64(614.7805555555556)),\n",
       "    (np.float64(664.0), np.float64(261.1805555555558))),\n",
       "   'system': 'PixelSpace',\n",
       "   'layout_width': 1700,\n",
       "   'layout_height': 2200},\n",
       "  'last_modified': '2025-04-20T23:44:37',\n",
       "  'filetype': 'PPM',\n",
       "  'languages': ['ar', 'en'],\n",
       "  'page_number': 4,\n",
       "  'image_base64': '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',\n",
       "  'image_mime_type': 'image/jpeg'}}"
      ]
     },
     "execution_count": 10,
     "metadata": {},
     "output_type": "execute_result"
    }
   ],
   "source": [
    "elements = chunks[26].metadata.orig_elements\n",
    "chunk_images = [el for el in elements if 'Image' in str(type(el))]\n",
    "chunk_images[0].to_dict()"
   ]
  },
  {
   "cell_type": "markdown",
   "id": "a4bdcd5c",
   "metadata": {},
   "source": [
    "### Separate extracted elements into tables, text, and images\n"
   ]
  },
  {
   "cell_type": "code",
   "execution_count": 11,
   "id": "d1165712",
   "metadata": {},
   "outputs": [],
   "source": [
    "# Helper functions for type checks\n",
    "def is_table(chunk):\n",
    "    return \"Table\" in str(type(chunk))\n",
    "\n",
    "def is_composite(chunk):\n",
    "    return \"CompositeElement\" in str(type(chunk))\n",
    "\n",
    "# Separate tables and texts using list comprehensions\n",
    "tables = [chunk for chunk in chunks if is_table(chunk)]\n",
    "texts = [chunk for chunk in chunks if is_composite(chunk)]\n",
    "\n",
    "# Get the images from the CompositeElement objects\n",
    "def get_images_base64(chunks):\n",
    "    images_b64 = []\n",
    "    for chunk in chunks:\n",
    "        if is_composite(chunk):\n",
    "            chunk_els = getattr(chunk.metadata, \"orig_elements\", [])\n",
    "            for el in chunk_els:\n",
    "                if \"Image\" in str(type(el)):\n",
    "                    images_b64.append(getattr(el.metadata, \"image_base64\", None))\n",
    "    # Filter out any None values in case image_base64 is missing\n",
    "    return [img for img in images_b64 if img]\n",
    "\n",
    "images = get_images_base64(chunks)"
   ]
  },
  {
   "cell_type": "code",
   "execution_count": 12,
   "id": "1e43de1a",
   "metadata": {},
   "outputs": [
    {
     "data": {
      "image/jpeg": "[encoded data removed]",
      "text/plain": [
       "<IPython.core.display.Image object>"
      ]
     },
     "metadata": {},
     "output_type": "display_data"
    }
   ],
   "source": [
    "import base64\n",
    "from IPython.display import Image, display\n",
    "\n",
    "def display_base64_image(base64_code):\n",
    "    # Decode the base64 string to binary\n",
    "    image_data = base64.b64decode(base64_code)\n",
    "    # Display the image\n",
    "    display(Image(data=image_data))\n",
    "\n",
    "display_base64_image(images[2])"
   ]
  },
  {
   "cell_type": "markdown",
   "id": "defe654e",
   "metadata": {},
   "source": [
    "## Summarize the data\n",
    "\n",
    "Create a summary of each element extracted from the PDF. This summary will be vectorized and used in the retrieval process."
   ]
  },
  {
   "cell_type": "code",
   "execution_count": 13,
   "id": "67bdd934",
   "metadata": {},
   "outputs": [],
   "source": [
    "from langchain.chat_models import init_chat_model\n",
    "from langchain_openai import ChatOpenAI\n",
    "from langchain_core.prompts import ChatPromptTemplate\n",
    "from langchain_core.output_parsers import StrOutputParser"
   ]
  },
  {
   "cell_type": "code",
   "execution_count": null,
   "id": "8baf4757",
   "metadata": {},
   "outputs": [],
   "source": [
    "# Prompt\n",
    "prompt_text = \"\"\"\n",
    "You are an assistant tasked with summarizing tables and text.\n",
    "Give a concise summary of the table or text.\n",
    "\n",
    "Respond only with the summary, no additional comment.\n",
    "Do not start your message by saying \"Here is a summary\" or anything like that.\n",
    "Just give the summary as it is.\n",
    "\n",
    "Table or text chunk: {element}\n",
    "\n",
    "\"\"\"\n",
    "prompt = ChatPromptTemplate.from_template(prompt_text)\n",
    "\n",
    "model = ChatOpenAI(\n",
    "    base_url=\"http://127.0.0.1:11434/v1/\",\n",
    "    api_key=\"ollama\",  \n",
    "    model=\"llama3.2:latest\", \n",
    "    temperature=0.5\n",
    ")\n",
    "\n",
    "summarize_chain = {\"element\": lambda x: x} | prompt | model | StrOutputParser()"
   ]
  },
  {
   "cell_type": "code",
   "execution_count": 15,
   "id": "d335c89b",
   "metadata": {},
   "outputs": [],
   "source": [
    "# Summarize text\n",
    "text_summaries = summarize_chain.batch(texts, {\"max_concurrency\": 3})\n",
    "\n",
    "# Summarize tables\n",
    "tables_html = [table.metadata.text_as_html for table in tables]\n",
    "table_summaries = summarize_chain.batch(tables_html, {\"max_concurrency\": 3})"
   ]
  },
  {
   "cell_type": "code",
   "execution_count": 19,
   "id": "1acc4471",
   "metadata": {},
   "outputs": [
    {
     "data": {
      "text/plain": [
       "['Table: 2023 paper publication data. Authors include Ashish Vaswani, Noam Shazeer, Niki Parmar, and Jakob Uszkoreit from Google Brain and Google Research.',\n",
       " 'Researchers at Google Research: Llion Jones, Aidan N. Gomez, Łukasz Kaiser, and Illia Polosukhin.',\n",
       " 'The Transformer model proposes a new sequence transduction architecture that uses only attention mechanisms, outperforming traditional recurrent and convolutional neural networks in machine translation tasks.',\n",
       " 'Our model achieves significant improvements in translation accuracy, surpassing existing results by over 2 BLEU and setting a new single-model state-of-the-art score for English-to-French translation.',\n",
       " 'Transformer generalized well to English constituency parsing, performing well with both large and limited training data.',\n",
       " 'Key contributors to Transformer development include Jakob proposing self-attention, Ashish/Illia designing first models, Noam introducing scaled dot-product attention, and Niki evaluating and tuning these ideas.',\n",
       " 'The original codebase and tensor2tensor have numerous model variants, with contributions from Llion, Lukasz, Aidan, and others, significantly improving results and accelerating research.',\n",
       " 'Presented work at NIPS 2017, including research at Google Brain and Google Research.',\n",
       " 'Recurrent neural networks (RNNs), particularly LSTMs and gated RNNs, are established state-of-the-art approaches for sequence modeling and transduction problems like language modeling and machine translation.',\n",
       " 'Recurrent models process sequences sequentially, generating hidden states based on previous states and inputs, limiting parallelization during training due to memory constraints.',\n",
       " 'Advances have been made in computational efficiency for sequential models, including factorization tricks and conditional computation, but the core limitation of sequential processing remains unchanged.',\n",
       " 'Attention mechanisms allow modeling of dependencies without regard to distance in input/output sequences, typically used in conjunction with recurrent networks.',\n",
       " 'Proposes the Transformer model architecture, which uses an attention mechanism to draw global dependencies, enabling significant parallelization and achieving state-of-the-art translation quality with short training times.',\n",
       " 'Several models (Extended Neural GPU, ByteNet, ConvS2S) use convolutional neural networks to compute hidden representations in parallel for all input and output positions, reducing sequential computation requirements.',\n",
       " \"Table/text chunk: Transformer's dependency learning is made more difficult by long-range dependencies, but can be mitigated using Multi-Head Attention.\",\n",
       " 'Self-attention is an attention mechanism that computes a representation of a single sequence by attending to different positions within the sequence.',\n",
       " 'End-to-end memory networks use recurrent attention mechanisms for simple-language question answering and language modeling, outperforming traditional sequence-aligned recurrence.',\n",
       " 'The Transformer model is a transduction model that relies solely on self-attention to compute input and output representations, replacing sequence-aligned RNNs or convolution.',\n",
       " 'Competitive neural sequence transduction models use an encoder-decoder architecture where the encoder maps input sequences to continuous representations and the decoder generates output sequences symbol by symbol, with each step being auto-regressive.',\n",
       " 'Transformer model architecture consists of two main components: Feed Forward and Self-Attention. The Feed Forward component uses ReLU activation to transform the input, while Self-Attention allows the model to weigh importance of different input elements. Multi-Head Attention enables parallelization of attention calculations across different subsets of features.',\n",
       " 'The Transformer model uses a stacked architecture consisting of self-attention and fully connected layers for both the encoder and decoder components.',\n",
       " 'The encoder consists of 6 identical layers with two sub-layers each: a multi-head self-attention mechanism and a position-wise fully connected feed-forward network, both with residual connections and layer normalization.',\n",
       " 'All residual connections, sub-layers, and embedding layers in the model have an output dimension of 512.',\n",
       " \"The decoder consists of a stack of 6 identical layers with two sub-layers and an additional third sub-layer performing multi-head attention over the encoder's output, using residual connections and layer normalization.\",\n",
       " 'Masking combined with output embedding offset by 1 position prevents predictions at position i from depending on future inputs.',\n",
       " 'Attention function maps query, keys, values to output through scaled dot-product attention, computing weighted sum of key-value pairs based on similarity between query and keys.',\n",
       " 'Multi-Head Attention is a linear neural network layer that processes input sequences in parallel, using multiple attention mechanisms to weigh values based on compatibility functions between queries and keys.',\n",
       " 'Scaled Dot-Product Attention: computes dot product of query and key vectors, applies softmax to obtain weights, divides by value dimensions (dk, dv)',\n",
       " 'Matrix of outputs is computed by taking the dot product of Q, K, and V, then applying a softmax function to the result, scaled by the square root of dk.',\n",
       " 'The two most commonly used attention functions are additive attention and dot-product (multiplicative) attention, where dot-product attention is identical to the algorithm but with a scaling factor of 1/√, and additive attention uses a feed-forward network with a single hidden layer.',\n",
       " 'Fast and efficient matrix multiplication algorithm using Coppersmith-Winograd method, reducing complexity from O(n^3) to O(n^2.376).',\n",
       " 'For small values of dk, additive attention and dot product attention perform similarly, but dot product attention degrades for larger values of dk due to large magnitude dot products pushing softmax into regions with small gradients; scaling dot products by 1/√dk improves performance.',\n",
       " 'Multi-Head Attention: Instead of a single attention function, queries, keys, and values are linearly projected h times with different projections to dk, dk, and dv dimensions, respectively, before performing multiple attention functions in parallel.',\n",
       " 'The dot product of two independent random variables with mean 0 and variance 1 results in a new variable with mean 0 and variance equal to the sum of their variances.',\n",
       " 'Multi-head attention allows model to attend to different representation subspaces at positions, but averaging inhibits this with a single head; multi-head attention uses concatenation and separate weight matrices for queries, keys, and values.',\n",
       " 'The proposed model uses 8 parallel attention layers, each with a smaller dimension (dk = dv = 64) compared to the original full dimensionality, resulting in a similar computational cost as single-head attention.',\n",
       " 'Transformer uses multi-head attention in three ways: encoder-decoder attention layers where queries come from previous decoder layer and memory keys/values from encoder output, allowing each position to attend over all input positions.',\n",
       " 'The table describes an encoder architecture with self-attention layers that allow each position to attend to all previous positions.',\n",
       " 'Self-attention layers in the decoder allow each position to attend to all positions up to and including itself, but are masked to prevent leftward information flow to preserve auto-regressive property.',\n",
       " 'Each layer in the encoder and decoder contains fully connected feed-forward networks (FFNNs), consisting of two linear transformations with a ReLU activation, applied to each position separately.',\n",
       " 'Linear transformations across different positions use different parameters from layer to layer, equivalent to two 1x1 convolutions with input/output dimensions dmodel=512 and dff=2048.',\n",
       " 'The proposed model uses learned embeddings to represent input and output tokens as vectors, with a shared weight matrix between the embedding layers and a pre-softmax linear transformation.',\n",
       " '| Layer Type | Max Path Length | Per-Layer Complexity | Min Sequential Ops |\\n| --- | --- | --- | --- |\\n| Dense | 1 | O(n) | 0 |\\n| CNN | n/d/k | O(nk) | 2 |\\n| Restricted Attention | r^d | O(rd) | k |\\n\\nTable 2: (not provided)\\n\\nText: The proposed model combines the strengths of different neural network architectures to achieve state-of-the-art results in various tasks. It leverages convolutional and attention mechanisms to capture local and global patterns, respectively.',\n",
       " 'Table: Comparison of Layer Types by Complexity and Operations.\\n\\n3.5 Positional Encoding: Adds a fixed, learnable vector to each position in the input sequence to preserve positional information without using recurrent layers or convolution.',\n",
       " 'The model requires positional encodings to convey sequence order without recurrence or convolution, adding a dimension to input embeddings at the bottom of encoder and decoder stacks.',\n",
       " 'Summary: A total of 9 items have been learned and fixed.',\n",
       " 'Summary: The paper uses sine and cosine functions with varying frequencies in their position encoding, defined as PE(pos, 2i) = sin(pos/100002i/dmodel) and PE(pos, 2i+1) = cos(pos/100002i/dmodel).',\n",
       " 'The positional encoding is based on sinusoids with wavelengths forming a geometric progression from 2π to 10000 · 2π, allowing the model to learn relative position attention.',\n",
       " 'Using learned positional embeddings instead of sinusoidal embeddings resulted in nearly identical results. The sinusoidal version was chosen for its potential to enable extrapolation to longer sequence lengths than those seen during training.',\n",
       " 'This section compares self-attention layers with recurrent and convolutional layers for mapping variable-length sequences to equal-length sequences, highlighting three key desiderata that motivate the use of self-attention.',\n",
       " 'Describes two aspects of computational complexity: one for each layer and another for parallelization capabilities.',\n",
       " 'The path length between long-range dependencies in a network affects its ability to learn such dependencies, with shorter paths facilitating learning.',\n",
       " 'The table reports on the maximum path length between input and output positions in neural networks, varying by layer type.',\n",
       " 'Self-attention layers have lower computational complexity (O(n)) compared to recurrent layers requiring O(n) sequential operations.',\n",
       " 'Self-attention can be restricted to consider a neighborhood of size r in long sequences to improve computational performance, reducing the need for very large representations.',\n",
       " 'Path length to O(n/r) for future investigation.',\n",
       " 'A single convolutional layer with kernel width less than input size does not connect all pairs of positions, requiring additional layers for connectivity and increasing computational cost compared to recurrent layers.',\n",
       " 'The complexity of a separable convolution is O(k · n · d + n · d2), even when k equals n.',\n",
       " 'Self-attention can yield more interpretable models by analyzing attention distributions, which show individual heads learning different tasks and exhibiting behaviors related to sentence structure. \\n\\nTraining regime involves using a specific data set with batching.',\n",
       " 'The researchers trained on two large datasets: WMT 2014 English-German (4.5 million sentence pairs) and English-French (36M sentence pairs), using byte-pair encoding or word-piece vocabulary, and batched sentences by approximate sequence length.',\n",
       " 'Summary: A dataset consisting of approximately 25,000 source sentences and 25,000 target sentences.',\n",
       " 'Trained models on one machine with 8 NVIDIA P100 GPUs, base model training took 12 hours and big model training took 3.5 days.',\n",
       " 'The Adam optimizer was used with β1 = 0.9, β2 = 0.98, and ϵ = 10^-9, with a learning rate schedule that increased linearly for the first 4000 training steps before decreasing proportionally to the inverse square root of step number.',\n",
       " 'The Transformer model outperforms previous state-of-the-art models with lower training costs in achieving higher BLEU scores in English-to-German and English-to-French language translation tasks.',\n",
       " 'Residual Dropout: applies dropout to sub-layer output before normalization and also to embeddings and positional encodings in encoder and decoder stacks with a base rate of Pdrop = 0.1.\\nLabel Smoothing: uses label smoothing (ϵls = 0.1) during training, which hurts perplexity but improves accuracy and BLEU score.',\n",
       " 'Machine translation results with 6 outcomes.',\n",
       " 'A big transformer model outperforms previous models by over 2.0 BLEU points, achieving a new state-of-the-art score of 28.4 on the WMT 2014 English-to-German translation task with a lower training cost than previously reported models.',\n",
       " 'Competitive models are AI systems designed to outperform traditional machine learning models on specific tasks, often using techniques such as reinforcement learning and imitation learning. They aim to maximize rewards by interacting with their environment, rather than simply minimizing loss.',\n",
       " 'The big model achieved a BLEU score of 41.0 on the WMT 2014 English-to-French translation task, outperforming previous single models at significantly reduced training cost.',\n",
       " 'The authors averaged model checkpoints at specific intervals for base and big models, using beam search with a beam size of 4 and a length penalty, and terminating early based on input length.',\n",
       " 'Table 2 compares translation quality and training costs with other model architectures from literature, estimating FP operations based on training time, GPUs, and GPU capacity.',\n",
       " 'The table lists different GPU models with their corresponding TFLOPS (tera floating point operations per second) values: K80 (2.8), K40 (3.7), M40 (6.0), and P100 (9.5).',\n",
       " 'Transformer architecture variations with listed values identical to the base model, measured on the English-to-German translation development set (newstest2013).',\n",
       " 'Table summarizes the effect of varying attention heads and dimensions on BLEU score while keeping computation constant, finding a balance between quality and computational cost.',\n",
       " 'Reducing attention key size negatively impacts model quality, suggesting a need for a more sophisticated compatibility function. Bigger models are better, while dropout helps avoid over-fitting; replacing sinusoidal encoding with learned positional embeddings improves performance.',\n",
       " 'The table or text indicates that using the base model resulted in identical outcomes.',\n",
       " 'The Transformer model was evaluated for its ability to generalize to English constituency parsing, a task with specific challenges including strict structural constraints and long output lengths, where previous RNN-based models struggled to achieve state-of-the-art results.',\n",
       " 'Trained a 4-layer transformer on 40K training sentences (WSJ) and 17M sentences (semi-supervised), using vocabularies of 16K and 32K tokens respectively.',\n",
       " 'The authors performed limited experiments to optimize hyperparameters for a pre-trained Transformer model on a development set, and the results show good performance in English constituency parsing.',\n",
       " 'Increased beam size to 21 and α=0.3 yielded surprisingly good results in both WSJ-only and semi-supervised settings.',\n",
       " 'The Transformer outperforms RNN models and a parser even when trained only on the WSJ training set. It replaces traditional recurrent layers with multi-headed self-attention in sequence transduction models.',\n",
       " 'The Transformer achieves faster training times than recurrent or convolutional layer-based architectures for translation tasks, achieving state-of-the-art results in WMT 2014 English-to-German and English-to-French translation tasks.',\n",
       " 'The company plans to apply attention-based models to other tasks beyond text, extending the Transformer architecture to handle multiple input/output modalities like images, audio, and video, with a focus on efficient handling of large inputs and outputs, as well as reducing the sequential nature of generation.',\n",
       " 'Code for training and evaluating models available at https://github.com/tensorflow/tensor2tensor. Acknowledgement to Nal Kalchbrenner and Stephan Gouws for contributions.',\n",
       " 'Key papers on neural machine translation: Bahdanau et al. (2014), Britz et al. (2017) and Lei Ba et al. (2016).',\n",
       " 'Two papers on natural language processing: \\n1. Cheng et al. (2016) introduce a new neural network architecture for machine reading.\\n2. Cho et al. (2014) develop an RNN-based encoder-decoder model for statistical machine translation.',\n",
       " 'Francois Chollet introduced Xception, a deep learning model using depthwise separable convolutions for efficient feature extraction. Junyoung Chung et al. evaluated gated recurrent neural networks on sequence modeling tasks. Chris Dyer et al. proposed recurrent neural network grammars for grammar representation in NLP.',\n",
       " 'Summary:\\nTable: Research papers on sequence-to-sequence and image recognition using neural networks.\\n- [9] Convolu- tional sequence to sequence learning (2017)\\n- [10] Generating sequences with recurrent neural networks (2013)\\n- [11] Deep residual learning for image recognition (2016)\\n\\nText: Papers by Graves, He et al., and Gehring et al. on using RNNs and CNNs in sequence-to-sequence and image recognition tasks.',\n",
       " 'Summary of [12]: Gradient flow in recurrent nets highlights the challenge of learning long-term dependencies in RNNs due to vanishing gradients. \\n\\nSummary of [13]: Introduces Long Short-Term Memory (LSTM) architecture to address the problem of vanishing gradients in RNNs, enabling the learning of long-term dependencies.',\n",
       " 'Table: Researchers Zhongqiang Huang and Mary Harper developed self-training PCFG grammars for languages with latent annotations in NLP.\\nText: Language model Rafal Jozefowicz et al. explored the limits of language modeling, publishing their findings in 2016.',\n",
       " 'Łukasz Kaiser and Samy Bengio explore replacing attention with active memory in neural networks, while Łukasz Kaiser and Ilya Sutskever investigate how Neural GPUs can learn algorithms. Nal Kalchbrenner et al. develop a method for neural machine translation that achieves linear time complexity.',\n",
       " 'Researchers in NLP developed Structured Attention Networks (SAN) to improve model performance by selectively focusing on relevant parts of input data. Adam optimization algorithm was introduced for stochastic optimization, and Factorization Tricks were applied to LSTM networks to enhance their performance.',\n",
       " 'Zhouhan Lin et al. propose a structured self-attentive sentence embedding method in their 2017 paper, while Minh-Thang Luong et al. develop multi-task sequence to sequence learning approach in their 2015 work.',\n",
       " 'Minh-Thang Luong et al. (2015) propose effective approaches to attention-based neural machine translation. Mitchell P Marcus et al. (1993) create the Penn TreeBank, a large annotated corpus of English.',\n",
       " 'Two researchers published papers on natural language processing: David McClosky et al. proposed a self-training method for parsing, while Ankur Parikh et al. developed a decomposable attention model that can be applied to various tasks.',\n",
       " 'A deep reinforced model for abstractive summarization was introduced in a 2017 arXiv preprint, while tree annotation was improved upon by learning accurate, compact, and interpretable annotations in a 2006 conference paper.',\n",
       " 'Two papers on improving language models using output embedding (Oscillation) and neural machine translation with subword units.',\n",
       " 'Researchers introduced the sparsely-gated mixture-of-experts layer for large neural networks, improving performance and reducing computational cost. A simpler method, dropout, was also proposed to prevent overfitting in neural networks by randomly dropping out units during training.',\n",
       " 'Two papers: \\n- End-to-end memory networks (Sainbayar Sukhbaatar et al., 2015) propose a model for sequential data processing.\\n- Sequence to sequence learning with neural networks (Ilya Sutskever et al., 2014) introduces an approach for translating sequences using neural networks.',\n",
       " 'Christian Szegedy et al. proposed a rethinking of the Inception architecture for computer vision, improving its performance. Vinyals et al. introduced \"Grammar as a Foreign Language\", exploring neural networks\\' ability to learn grammar rules.',\n",
       " \"Google's neural machine translation system improves human-machine translation by leveraging neural networks, achieving state-of-the-art results in various benchmarks.\",\n",
       " 'Summary of paper: Presents a fast and accurate method for shift-reduce constituent parsing in natural language processing, with an evaluation on the 51st Annual Meeting of the ACL.',\n",
       " 'Attention Visualizations: A table with various attention visualization techniques, including i= i<j, RE, 3 2, and more.',\n",
       " \"Figure 3 shows how long-distance dependencies are handled in the encoder self-attention mechanism, with multiple attention heads attending to distant dependencies of a verb ('making'), completing phrases like 'making...more difficult'.\",\n",
       " 'Table/Text: A coded message appears to be a mix of random characters and words, including \"Aw ul Bulssiw\" repeated multiple times, with some words translated as \"yeum\", \"Pinoys\", and others. The message seems to be nonsensical and possibly generated randomly.',\n",
       " 'Table: Two attention heads in layer 5 of 6 are involved in anaphora resolution, with sharp attentions for the word \"its\". Text: A text snippet in Tagalog language with phonetic transcription, containing words and punctuation marks.',\n",
       " 'Table/Text summary: A table or text chunk containing a jumbled collection of characters and words, including \"Pinoys\" and \"sly\", with no clear structure or relevance to the context of Figure 5.']"
      ]
     },
     "execution_count": 19,
     "metadata": {},
     "output_type": "execute_result"
    }
   ],
   "source": [
    "text_summaries"
   ]
  },
  {
   "cell_type": "code",
   "execution_count": 17,
   "id": "423f9c8b",
   "metadata": {},
   "outputs": [
    {
     "data": {
      "text/plain": [
       "[\"Model | EN-DE | BLEU EN-FR | Training EN-DE | Cost (FLOPs) EN-FR\\nByteNet [18] | 23.75 | - | - | -\\nDeep-Att + PosUnk | - | 39.2 | - | 1.0 - 107°\\nGNMT + RL | 24.6 | 39.92 | 2.3-10!9 | 1.4-1070\\nConvS28 [9] | 25.16 | 40.46 | 9.6-10% | 1.5-1070\\nMoE | 26.03 | 40.56 | 2.0-10'9 | 1.2 - 107°\\nDeep-Att + PosUnk Ensemble | - | 40.4 | - | 8.0 - 107°\\nGNMT + RL Ensemble (33) | 26.30 | 41.16 | 1.8-1079 | 1.1 - 1074\\nConvS2S Ensemble [9] | 26.36 | 41.29 | 7.7-10'9 | —1.2-107!\\nTransformer (base model) | 27.3 | 38.1 | 3.3- | 1018\\nTransformer (big) | 28.4 | 41.8 | - | 2.31019\",\n",
       " 'The table shows the results of different neural network architectures on a dataset, comparing their performance with varying input sizes and number of layers. The models are compared across various configurations, including positional embedding, sinusoids, and others.',\n",
       " 'The table lists various sizes (big, 6, 1024, 4096, 16) with corresponding values (0.3, 300K, 4.33, 26.4, 213), likely representing measurements or data points for a specific dataset.',\n",
       " 'Table:\\n\\n* Parser: Vinyals & Kaiser et al. (2014), Petrov et al. (2006), Dyer et al. (2016), Transformer, Zhu et al. (2013), Huang & Harper (2009), McClosky et al. (2006)\\n* Training data: WSJ only, discriminative; semi-supervised\\n* Performance on WSJ 23 FI: 88.3-91.7%',\n",
       " 'Transformer models with 4 layers achieved semi-supervised results of 92.7%, outperforming Luong et al. (2015) and Dyer et al. (2016) by 0.3% and 0.2%, respectively, in multi-task generative tasks.']"
      ]
     },
     "execution_count": 17,
     "metadata": {},
     "output_type": "execute_result"
    }
   ],
   "source": [
    "table_summaries"
   ]
  },
  {
   "cell_type": "markdown",
   "id": "807495b9",
   "metadata": {},
   "source": [
    "### Image summaries\n",
    "\n",
    "We will use qwen2.5vl to produce the image summaries."
   ]
  },
  {
   "cell_type": "code",
   "execution_count": null,
   "id": "8f06b344",
   "metadata": {},
   "outputs": [],
   "source": [
    "prompt_template = \"\"\"Describe the image in detail. For context,\n",
    "                    the image is part of a research paper explaining the transformers\n",
    "                    architecture. Be specific about graphs, such as bar plots.\"\"\"\n",
    "messages = [\n",
    "    (\n",
    "        \"user\",\n",
    "        [\n",
    "            {\"type\": \"text\", \"text\": prompt_template},\n",
    "            {\n",
    "                \"type\": \"image_url\",\n",
    "                \"image_url\": {\"url\": \"data:image/jpeg;base64,{image}\"},\n",
    "            },\n",
    "        ],\n",
    "    )\n",
    "]\n",
    "\n",
    "prompt = ChatPromptTemplate.from_messages(messages)\n",
    "\n",
    "model = ChatOpenAI(\n",
    "    base_url=\"http://127.0.0.1:11434/v1/\",\n",
    "    api_key=\"ollama\",  \n",
    "    model=\"qwen2.5vl\", \n",
    "    temperature=0.5\n",
    ")\n",
    "\n",
    "chain = prompt | model | StrOutputParser()\n",
    "\n",
    "\n",
    "image_summaries = chain.batch(images)"
   ]
  },
  {
   "cell_type": "code",
   "execution_count": null,
   "id": "3436b644",
   "metadata": {},
   "outputs": [],
   "source": [
    "display_base64_image(images[0])\n",
    "print(image_summaries[0])"
   ]
  },
  {
   "cell_type": "markdown",
   "id": "9598b1fe",
   "metadata": {},
   "source": [
    "## Load data and summaries to vectorstore"
   ]
  },
  {
   "cell_type": "markdown",
   "id": "8ee29eab",
   "metadata": {},
   "source": [
    "### Create the vectorstore"
   ]
  },
  {
   "cell_type": "code",
   "execution_count": null,
   "id": "7939124e",
   "metadata": {},
   "outputs": [],
   "source": [
    "import uuid\n",
    "from langchain_chroma import Chroma\n",
    "from langchain.storage import InMemoryStore\n",
    "from langchain.schema.document import Document\n",
    "from langchain_ollama import OllamaEmbeddings \n",
    "from langchain.retrievers.multi_vector import MultiVectorRetriever\n",
    "\n",
    "# The vectorstore to use to index the child chunks\n",
    "vectorstore = Chroma(collection_name=\"multi_modal_rag\", embedding_function=OllamaEmbeddings(model=\"nomic-embed-text\"))\n",
    "\n",
    "# The storage layer for the parent documents\n",
    "store = InMemoryStore()\n",
    "id_key = \"doc_id\"\n",
    "\n",
    "# The retriever (empty to start)\n",
    "retriever = MultiVectorRetriever(\n",
    "    vectorstore=vectorstore,\n",
    "    docstore=store,\n",
    "    id_key=id_key,\n",
    ")"
   ]
  }
 ],
 "metadata": {
  "kernelspec": {
   "display_name": "LLMS",
   "language": "python",
   "name": "python3"
  },
  "language_info": {
   "codemirror_mode": {
    "name": "ipython",
    "version": 3
   },
   "file_extension": ".py",
   "mimetype": "text/x-python",
   "name": "python",
   "nbconvert_exporter": "python",
   "pygments_lexer": "ipython3",
   "version": "3.13.2"
  }
 },
 "nbformat": 4,
 "nbformat_minor": 5
}
