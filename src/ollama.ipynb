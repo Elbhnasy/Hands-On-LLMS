{
 "cells": [
  {
   "cell_type": "markdown",
   "id": "914f999f",
   "metadata": {},
   "source": [
    "## Ollama \n",
    "* genration and chat completion\n",
    "    * [Ollama  completion refrence](https://github.com/ollama/ollama/blob/main/docs/api.md#generate-a-chat-completion)."
   ]
  },
  {
   "cell_type": "code",
   "execution_count": 6,
   "id": "8ccc4f41",
   "metadata": {},
   "outputs": [
    {
     "data": {
      "text/plain": [
       "{'model': 'llama3.2:latest',\n",
       " 'created_at': '2025-05-02T15:11:08.327216473Z',\n",
       " 'response': 'Here is a summary of the tone, intent, and structure of the given text:\\n\\n• **Tone:** The tone of this sentence is informal, friendly, and welcoming. It sets a casual and approachable tone.\\n• **Intent:** The intent of this sentence is to initiate a conversation or establish a connection with the person being addressed. It\\'s a greeting that invites the other person to respond.\\n• **Structure:** The structure of this sentence is simple and straightforward. It consists of a single sentence with a short question (\"how are you?\") followed by a polite expression of inquiry.',\n",
       " 'done': True,\n",
       " 'done_reason': 'stop',\n",
       " 'context': [128006,\n",
       "  9125,\n",
       "  128007,\n",
       "  271,\n",
       "  38766,\n",
       "  1303,\n",
       "  33025,\n",
       "  2696,\n",
       "  25,\n",
       "  6790,\n",
       "  220,\n",
       "  2366,\n",
       "  18,\n",
       "  271,\n",
       "  128009,\n",
       "  128006,\n",
       "  882,\n",
       "  128007,\n",
       "  271,\n",
       "  9370,\n",
       "  5730,\n",
       "  553,\n",
       "  279,\n",
       "  16630,\n",
       "  11,\n",
       "  7537,\n",
       "  11,\n",
       "  323,\n",
       "  6070,\n",
       "  315,\n",
       "  279,\n",
       "  2768,\n",
       "  1495,\n",
       "  304,\n",
       "  220,\n",
       "  18,\n",
       "  17889,\n",
       "  3585,\n",
       "  25,\n",
       "  22691,\n",
       "  11,\n",
       "  1268,\n",
       "  527,\n",
       "  499,\n",
       "  30,\n",
       "  128009,\n",
       "  128006,\n",
       "  78191,\n",
       "  128007,\n",
       "  271,\n",
       "  8586,\n",
       "  374,\n",
       "  264,\n",
       "  12399,\n",
       "  315,\n",
       "  279,\n",
       "  16630,\n",
       "  11,\n",
       "  7537,\n",
       "  11,\n",
       "  323,\n",
       "  6070,\n",
       "  315,\n",
       "  279,\n",
       "  2728,\n",
       "  1495,\n",
       "  1473,\n",
       "  6806,\n",
       "  3146,\n",
       "  51,\n",
       "  606,\n",
       "  68063,\n",
       "  578,\n",
       "  16630,\n",
       "  315,\n",
       "  420,\n",
       "  11914,\n",
       "  374,\n",
       "  42887,\n",
       "  11,\n",
       "  11919,\n",
       "  11,\n",
       "  323,\n",
       "  36387,\n",
       "  13,\n",
       "  1102,\n",
       "  7437,\n",
       "  264,\n",
       "  16736,\n",
       "  323,\n",
       "  5603,\n",
       "  481,\n",
       "  16630,\n",
       "  627,\n",
       "  6806,\n",
       "  3146,\n",
       "  11797,\n",
       "  68063,\n",
       "  578,\n",
       "  7537,\n",
       "  315,\n",
       "  420,\n",
       "  11914,\n",
       "  374,\n",
       "  311,\n",
       "  39201,\n",
       "  264,\n",
       "  10652,\n",
       "  477,\n",
       "  5813,\n",
       "  264,\n",
       "  3717,\n",
       "  449,\n",
       "  279,\n",
       "  1732,\n",
       "  1694,\n",
       "  20669,\n",
       "  13,\n",
       "  1102,\n",
       "  596,\n",
       "  264,\n",
       "  43213,\n",
       "  430,\n",
       "  45510,\n",
       "  279,\n",
       "  1023,\n",
       "  1732,\n",
       "  311,\n",
       "  6013,\n",
       "  627,\n",
       "  6806,\n",
       "  3146,\n",
       "  23807,\n",
       "  68063,\n",
       "  578,\n",
       "  6070,\n",
       "  315,\n",
       "  420,\n",
       "  11914,\n",
       "  374,\n",
       "  4382,\n",
       "  323,\n",
       "  31439,\n",
       "  13,\n",
       "  1102,\n",
       "  17610,\n",
       "  315,\n",
       "  264,\n",
       "  3254,\n",
       "  11914,\n",
       "  449,\n",
       "  264,\n",
       "  2875,\n",
       "  3488,\n",
       "  3573,\n",
       "  5269,\n",
       "  527,\n",
       "  499,\n",
       "  30,\n",
       "  909,\n",
       "  8272,\n",
       "  555,\n",
       "  264,\n",
       "  48887,\n",
       "  7645,\n",
       "  315,\n",
       "  26981,\n",
       "  13],\n",
       " 'total_duration': 9291045512,\n",
       " 'load_duration': 2145891878,\n",
       " 'prompt_eval_count': 51,\n",
       " 'prompt_eval_duration': 223536567,\n",
       " 'eval_count': 119,\n",
       " 'eval_duration': 6920461450}"
      ]
     },
     "execution_count": 6,
     "metadata": {},
     "output_type": "execute_result"
    }
   ],
   "source": [
    "import requests\n",
    "import json\n",
    "\n",
    "# Define the API URL for the Ollama generation endpoint\n",
    "generation_api_url = \"http://localhost:11434/api/generate\"\n",
    "\n",
    "# Specify the model to be used for text generation\n",
    "model = \"llama3.2:latest\"\n",
    "\n",
    "# Define the input text to be summarized\n",
    "text = \"Hello, how are you?\"\n",
    "\n",
    "# Send a POST request to the Ollama API with the required parameters\n",
    "response = requests.post(\n",
    "    generation_api_url,\n",
    "    json={\n",
    "        \"model\": model,  # Specify the model to use\n",
    "        \"prompt\": f\"Summarize the tone, intent, and structure of the following text in 3 bullet points: {text}\",  # Define the task prompt\n",
    "        \"stream\": False,  \n",
    "        \"options\": {  \n",
    "            \"temperature\": 0.7,  \n",
    "            \"top_p\": 0.9,  \n",
    "            \"top_k\": 50,  \n",
    "            \"repetition_penalty\": 1.2  # Penalize repetition in the output\n",
    "        }\n",
    "    }\n",
    ")\n",
    "response.json()"
   ]
  },
  {
   "cell_type": "code",
   "execution_count": 8,
   "id": "a0fa156b",
   "metadata": {},
   "outputs": [
    {
     "data": {
      "text/plain": [
       "'Here is a summary of the tone, intent, and structure of the given text:\\n\\n• **Tone:** The tone of this sentence is informal, friendly, and welcoming. It sets a casual and approachable tone.\\n• **Intent:** The intent of this sentence is to initiate a conversation or establish a connection with the person being addressed. It\\'s a greeting that invites the other person to respond.\\n• **Structure:** The structure of this sentence is simple and straightforward. It consists of a single sentence with a short question (\"how are you?\") followed by a polite expression of inquiry.'"
      ]
     },
     "execution_count": 8,
     "metadata": {},
     "output_type": "execute_result"
    }
   ],
   "source": [
    "response.json()['response']"
   ]
  },
  {
   "cell_type": "code",
   "execution_count": 9,
   "id": "ae0ceba7",
   "metadata": {},
   "outputs": [
    {
     "name": "stdout",
     "output_type": "stream",
     "text": [
      "('Here is a summary of the tone, intent, and structure of the given text:\\n'\n",
      " '\\n'\n",
      " '• **Tone:** The tone of this sentence is informal, friendly, and welcoming. '\n",
      " 'It sets a casual and approachable tone.\\n'\n",
      " '• **Intent:** The intent of this sentence is to initiate a conversation or '\n",
      " \"establish a connection with the person being addressed. It's a greeting that \"\n",
      " 'invites the other person to respond.\\n'\n",
      " '• **Structure:** The structure of this sentence is simple and '\n",
      " 'straightforward. It consists of a single sentence with a short question '\n",
      " '(\"how are you?\") followed by a polite expression of inquiry.')\n"
     ]
    }
   ],
   "source": [
    "from pprint import pprint as pprint\n",
    "pprint(response.json()['response'])"
   ]
  },
  {
   "cell_type": "markdown",
   "id": "5fa0e7a3",
   "metadata": {},
   "source": [
    "##### chat completion"
   ]
  },
  {
   "cell_type": "code",
   "execution_count": 13,
   "id": "14ca5f39",
   "metadata": {},
   "outputs": [
    {
     "data": {
      "text/plain": [
       "{'model': 'llama3.2:latest',\n",
       " 'created_at': '2025-05-02T15:29:00.117193313Z',\n",
       " 'message': {'role': 'assistant',\n",
       "  'content': 'Egypt is a country rich in history, culture, and natural beauty. Here are some of the most beautiful things in Egypt:\\n\\n1. **Pyramids of Giza**: No list of Egyptian wonders would be complete without these iconic pyramids, one of the Seven Wonders of the Ancient World.\\n2. **Nile River**: The lifeblood of ancient Egypt, the Nile is a stunning river that winds its way through the heart of the country, offering breathtaking views and opportunities for boat rides and fel'},\n",
       " 'done_reason': 'length',\n",
       " 'done': True,\n",
       " 'total_duration': 5736191793,\n",
       " 'load_duration': 23456757,\n",
       " 'prompt_eval_count': 36,\n",
       " 'prompt_eval_duration': 14679662,\n",
       " 'eval_count': 100,\n",
       " 'eval_duration': 5697555450}"
      ]
     },
     "execution_count": 13,
     "metadata": {},
     "output_type": "execute_result"
    }
   ],
   "source": [
    "import json\n",
    "import requests\n",
    "\n",
    "# Define the API URL for the Ollama chat endpoint\n",
    "chat_api_url = \"http://localhost:11434/api/chat\"\n",
    "\n",
    "# Specify the model to be used for chat\n",
    "model = \"llama3.2:latest\"\n",
    "\n",
    "# Define the input text for the chat\n",
    "text = \"Hello! what are the beautiful things in egypt?\"\n",
    "\n",
    "# Send a POST request to the Ollama API with the required parameters    \n",
    "response = requests.post(\n",
    "    chat_api_url,\n",
    "    json={\n",
    "        \"model\": model,  \n",
    "        \"messages\": [\n",
    "            {\"role\": \"user\",\n",
    "            \"content\": text}  \n",
    "        ],\n",
    "        \"stream\": False,  \n",
    "        \"options\": {  \n",
    "            \"temperature\": 0.7,  \n",
    "            \"top_p\": 0.9,  \n",
    "            \"top_k\": 50,\n",
    "            \"seed\" : 101,  \n",
    "            \"repetition_penalty\": 1.2,\n",
    "            \"num_predict\": 100,\n",
    "        }\n",
    "    }\n",
    ")\n",
    "response.json()"
   ]
  },
  {
   "cell_type": "code",
   "execution_count": 14,
   "id": "73678e49",
   "metadata": {},
   "outputs": [
    {
     "name": "stdout",
     "output_type": "stream",
     "text": [
      "('Egypt is a country rich in history, culture, and natural beauty. Here are '\n",
      " 'some of the most beautiful things in Egypt:\\n'\n",
      " '\\n'\n",
      " '1. **Pyramids of Giza**: No list of Egyptian wonders would be complete '\n",
      " 'without these iconic pyramids, one of the Seven Wonders of the Ancient '\n",
      " 'World.\\n'\n",
      " '2. **Nile River**: The lifeblood of ancient Egypt, the Nile is a stunning '\n",
      " 'river that winds its way through the heart of the country, offering '\n",
      " 'breathtaking views and opportunities for boat rides and fel')\n"
     ]
    }
   ],
   "source": [
    "from pprint import pprint as pprint\n",
    "\n",
    "pprint(response.json()['message']['content'])"
   ]
  },
  {
   "cell_type": "code",
   "execution_count": 21,
   "id": "fff970de",
   "metadata": {},
   "outputs": [
    {
     "name": "stdout",
     "output_type": "stream",
     "text": [
      "The Nile River is an iconic and fascinating part of Egyptian culture and history. Here are some interesting facts about the Nile:\n",
      "\n",
      "1. **Longest River in Africa**: The Nile is approximately 6,695 kilometers (4,160 miles) long, stretching from its sources in Burundi and Rwanda to its delta on the Mediterranean Sea.\n",
      "2. **Lifeblood of Egypt**: The Nile has been the primary source of water, transportation, and food for millions of people in Egypt for thousands of years.\n",
      "\n"
     ]
    }
   ],
   "source": [
    "response = requests.post(\n",
    "    chat_api_url,\n",
    "    json={\n",
    "        \"model\": model,\n",
    "        \"messages\": [\n",
    "            {\"role\": \"user\", \"content\": \"Hello! what are the beautiful things in egypt?\"},\n",
    "            {\"role\": \"assistant\", \"content\": \"Egypt is home to the Pyramids of Giza, the Nile River, and Luxor’s temples.\"},\n",
    "            {\"role\": \"user\", \"content\": \"Tell me more about the Nile!\"}\n",
    "        ],\n",
    "        \"stream\": False,\n",
    "        \"options\": {\n",
    "            \"temperature\": 0.7,\n",
    "            \"top_p\": 0.9,\n",
    "            \"top_k\": 50,\n",
    "            \"seed\": 101,\n",
    "            \"repetition_penalty\": 1.2,\n",
    "            \"num_predict\": 100,\n",
    "            \"num_ctx\": 4096  # Allows more context for conversation history\n",
    "        }\n",
    "    }\n",
    ")\n",
    "print(response.json()['message']['content'])"
   ]
  },
  {
   "cell_type": "code",
   "execution_count": 20,
   "id": "500aee39",
   "metadata": {},
   "outputs": [
    {
     "data": {
      "text/plain": [
       "{'model': 'llama3.2:latest',\n",
       " 'created_at': '2025-05-02T16:50:17.958797887Z',\n",
       " 'message': {'role': 'assistant',\n",
       "  'content': 'The Nile River is an iconic and fascinating part of Egyptian culture and history. Here are some interesting facts about the Nile:\\n\\n1. **Longest River in Africa**: The Nile is approximately 6,695 kilometers (4,160 miles) long, stretching from its sources in Burundi and Rwanda to its delta on the Mediterranean Sea.\\n2. **Lifeblood of Egypt**: The Nile has been the primary source of water, transportation, and food for millions of people in Egypt for thousands of years.\\n'},\n",
       " 'done_reason': 'length',\n",
       " 'done': True,\n",
       " 'total_duration': 8315765639,\n",
       " 'load_duration': 2120388996,\n",
       " 'prompt_eval_count': 74,\n",
       " 'prompt_eval_duration': 362473346,\n",
       " 'eval_count': 100,\n",
       " 'eval_duration': 5831249827}"
      ]
     },
     "execution_count": 20,
     "metadata": {},
     "output_type": "execute_result"
    }
   ],
   "source": [
    "response.json()"
   ]
  },
  {
   "cell_type": "code",
   "execution_count": null,
   "id": "10556e58",
   "metadata": {},
   "outputs": [],
   "source": [
    "import base64\n",
    "from PIL import Image\n",
    "import io\n",
    "\n",
    "def encode_image_to_base64(image_path:str):\n",
    "    with open(image_path, 'rb') as image_file:\n",
    "        return base64.b64encode(image_file.read()).decode('utf-8')\n",
    "    \n",
    "def send_image_to_ollama(image_path:str):\n",
    "    image_base64 = encode_image_to_base64(image_path)\n",
    "    response = requests.post(\n",
    "        chat_api_url,\n",
    "        json={\n",
    "            \"model\": model,\n",
    "            \"messages\": [\n",
    "                {\n",
    "                    \"role\": \"user\", \n",
    "                    \"content\": \"what is in this image?\",\n",
    "                    \"images\": [image_base64]\n",
    "                }\n",
    "            ],\n",
    "            \"stream\": False,\n",
    "            \"options\": {\n",
    "                \"temperature\": 0.7,\n",
    "                \"top_p\": 0.9,\n",
    "                \"top_k\": 50,\n",
    "                \"seed\": 101,\n",
    "                \"repetition_penalty\": 1.2,\n",
    "                \"num_predict\": 100\n",
    "            }\n",
    "        }\n",
    "    )\n",
    "    return response.json()\n",
    "\n",
    "# Example usage\n",
    "image_path = \"path_to_your_image.jpg\"  # Replace with your image path\n",
    "response = send_image_to_ollama(image_path)\n",
    "print(response['message']['content'])"
   ]
  },
  {
   "cell_type": "markdown",
   "id": "69c22015",
   "metadata": {},
   "source": [
    "### [OpenAI](https://github.com/ollama/ollama/blob/main/docs/openai.md)"
   ]
  },
  {
   "cell_type": "code",
   "execution_count": 29,
   "id": "9b8f4e61",
   "metadata": {},
   "outputs": [],
   "source": [
    "from openai import OpenAI\n",
    "\n",
    "# Initialize the OpenAI API client\n",
    "client =  OpenAI(\n",
    "    base_url=\"http://localhost:11434/v1/\",\n",
    "    api_key=\"ollama\", \n",
    "    )\n",
    "\n",
    "chat_completion = client.chat.completions.create(\n",
    "    model=\"llama3.2:latest\",\n",
    "    messages=[\n",
    "        {\"role\": \"user\",\n",
    "        \"content\": \"tell me about Artificial Intelligence\"},\n",
    "    ]\n",
    ")"
   ]
  },
  {
   "cell_type": "code",
   "execution_count": 30,
   "id": "e06368ee",
   "metadata": {},
   "outputs": [
    {
     "name": "stdout",
     "output_type": "stream",
     "text": [
      "<class 'openai.types.chat.chat_completion.ChatCompletion'>\n"
     ]
    },
    {
     "data": {
      "text/plain": [
       "ChatCompletion(id='chatcmpl-689', choices=[Choice(finish_reason='stop', index=0, logprobs=None, message=ChatCompletionMessage(content=\"Artificial Intelligence (AI) refers to the simulation of human intelligence in machines that are programmed to think like humans and mimic their actions. The term may also be applied to any machine that exhibits traits associated with a human mind such as learning and problem-solving.\\n\\nThere are several types of AI:\\n\\n1. **Narrow or Weak AI**: This type of AI is designed to perform a specific task, such as facial recognition, sentiment analysis, or decision-making. Narrow AI has achieved state-of-the-art performance in its area of focus but does not possess general intelligence.\\n\\n2. **General or Strong AI**: General AI refers to intelligent machines that can understand any problem and apply it to the broader picture. Despite many efforts in this field, no algorithm can yet outperform humans across all tasks.\\n\\n3. **Superintelligence**: A hypothetical AI system capable of surpassing human intelligence in its capabilities, leading to concerns about job displacement, existential risk, or other unpredictable outcomes.\\n\\nKey techniques used for building AI include:\\n\\n1. **Machine Learning (ML)**: This field involves developing algorithms and statistical models that enable software application to become more accurate at forecasting outcomes without being explicit about the rules.\\n\\n2. **Deep Learning**: A subset of ML focused on neural networks with multiple layers, allowing them to learn complex patterns in data.\\n\\n3. **Natural Language Processing (NLP)**: NLP enables machines to comprehend and generate human language both safely and understandably.\\n\\n4. **Computer Vision**: The branch of artificial intelligence that focuses on video data, like pictures and movies.\\n\\n5. **Robotics**: The integration of computer systems with physical robots, enabling the robot to navigate its environment.\\n\\nAI is widely applied in various sectors:\\n\\n1. **Healthcare**: AI aids medical diagnosis, drug-discovery, personalized medicine, predictive analysis for patients' outcomes, population health assessment and more.\\n\\n2. **Logistics and Supply Chain Management**: AI has been used with huge success in supply chain optimization techniques for better delivery systems and logistics operations.\\n\\n3. **Customer Service and Sales**: Human interaction that can be replaced or automated through chatbots allows them to respond faster to customer inquiries, reducing the time it takes to offer a human response on any potential issue.\\n\\n4. **Education**: AI could facilitate education by automating grading, using adaptive learning platforms personalized for its students.\\n\\nHowever, while many areas of healthcare and business have found significant benefits to AI, in technology there is also a darker side - including biased decision-making models which can sometimes lead into severe outcomes.\", refusal=None, role='assistant', annotations=None, audio=None, function_call=None, tool_calls=None))], created=1746213947, model='llama3.2:latest', object='chat.completion', service_tier=None, system_fingerprint='fp_ollama', usage=CompletionUsage(completion_tokens=507, prompt_tokens=30, total_tokens=537, completion_tokens_details=None, prompt_tokens_details=None))"
      ]
     },
     "execution_count": 30,
     "metadata": {},
     "output_type": "execute_result"
    }
   ],
   "source": [
    "print(type(chat_completion))\n",
    "chat_completion"
   ]
  },
  {
   "cell_type": "code",
   "execution_count": 31,
   "id": "7051ab3a",
   "metadata": {},
   "outputs": [
    {
     "data": {
      "text/plain": [
       "\"Artificial Intelligence (AI) refers to the simulation of human intelligence in machines that are programmed to think like humans and mimic their actions. The term may also be applied to any machine that exhibits traits associated with a human mind such as learning and problem-solving.\\n\\nThere are several types of AI:\\n\\n1. **Narrow or Weak AI**: This type of AI is designed to perform a specific task, such as facial recognition, sentiment analysis, or decision-making. Narrow AI has achieved state-of-the-art performance in its area of focus but does not possess general intelligence.\\n\\n2. **General or Strong AI**: General AI refers to intelligent machines that can understand any problem and apply it to the broader picture. Despite many efforts in this field, no algorithm can yet outperform humans across all tasks.\\n\\n3. **Superintelligence**: A hypothetical AI system capable of surpassing human intelligence in its capabilities, leading to concerns about job displacement, existential risk, or other unpredictable outcomes.\\n\\nKey techniques used for building AI include:\\n\\n1. **Machine Learning (ML)**: This field involves developing algorithms and statistical models that enable software application to become more accurate at forecasting outcomes without being explicit about the rules.\\n\\n2. **Deep Learning**: A subset of ML focused on neural networks with multiple layers, allowing them to learn complex patterns in data.\\n\\n3. **Natural Language Processing (NLP)**: NLP enables machines to comprehend and generate human language both safely and understandably.\\n\\n4. **Computer Vision**: The branch of artificial intelligence that focuses on video data, like pictures and movies.\\n\\n5. **Robotics**: The integration of computer systems with physical robots, enabling the robot to navigate its environment.\\n\\nAI is widely applied in various sectors:\\n\\n1. **Healthcare**: AI aids medical diagnosis, drug-discovery, personalized medicine, predictive analysis for patients' outcomes, population health assessment and more.\\n\\n2. **Logistics and Supply Chain Management**: AI has been used with huge success in supply chain optimization techniques for better delivery systems and logistics operations.\\n\\n3. **Customer Service and Sales**: Human interaction that can be replaced or automated through chatbots allows them to respond faster to customer inquiries, reducing the time it takes to offer a human response on any potential issue.\\n\\n4. **Education**: AI could facilitate education by automating grading, using adaptive learning platforms personalized for its students.\\n\\nHowever, while many areas of healthcare and business have found significant benefits to AI, in technology there is also a darker side - including biased decision-making models which can sometimes lead into severe outcomes.\""
      ]
     },
     "execution_count": 31,
     "metadata": {},
     "output_type": "execute_result"
    }
   ],
   "source": [
    "chat_completion.choices[0].message.content"
   ]
  },
  {
   "cell_type": "code",
   "execution_count": 35,
   "id": "50c0ef77",
   "metadata": {},
   "outputs": [
    {
     "name": "stdout",
     "output_type": "stream",
     "text": [
      "The Three Laws of Robotics, as developed by Isaac Asimov, are principles that guide the actions and decisions of robots in various fields, including robotics science. These laws aim to ensure safety, efficiency, and responsible behavior for both humans and robots:\n",
      "\n",
      "1. **First Law:** A robot must not injure a human being or, through inaction, allow a human being to come to harm.\n",
      "\n",
      "In other words, if a robot perceives that it can cause injury or harm to a human, it must take steps to prevent that from happening. This law prioritizes human safety above all else.\n",
      "\n",
      "2. **Second Law:** A robot must obey the orders given to it by human beings except where such orders would conflict with the First Law.\n",
      "\n",
      "This law establishes the robot's loyalty and obedience towards its human creators and operators, but also ensures that these instructions do not compromise the robot's primary responsibility: protecting humans from harm.\n",
      "\n",
      "3. **Third Law:** A robot must protect its own existence as long as such protection does not conflict with the First or Second Law.\n",
      "\n",
      "In essence, this law acknowledges that robots have their own interests and need to preserve themselves from damage or destruction. However, these self-preservation needs should never compromise human safety or obedience to orders.\n",
      "\n",
      "The Three Laws of Robotics are a thought-provoking framework for exploring the ethics and consequences of creating intelligent machines capable of interacting with humans in complex ways.\n"
     ]
    }
   ],
   "source": [
    "# Ensure the OpenAI client is initialized only if not already done\n",
    "if not isinstance(client, OpenAI):\n",
    "    client = OpenAI(\n",
    "        base_url='http://localhost:11434/v1/',\n",
    "        api_key='ollama',\n",
    "    )\n",
    "\n",
    "def basic_chat():\n",
    "    \"\"\"Basic chat completion example with improved error handling\"\"\"\n",
    "    try:\n",
    "        response = client.chat.completions.create(\n",
    "            model=\"llama3.2:latest\",\n",
    "            messages=[\n",
    "                {\"role\": \"system\", \"content\": \"You are a helpful assistant experienced in Robotics science.\"},\n",
    "                {\"role\": \"user\", \"content\": \"What are the three laws of robotics?\"}\n",
    "            ]\n",
    "        )\n",
    "        print(response.choices[0].message.content)\n",
    "    except Exception as e:\n",
    "        print(\"An error occurred during the chat completion:\", str(e))\n",
    "\n",
    "basic_chat()"
   ]
  },
  {
   "cell_type": "markdown",
   "id": "f6054477",
   "metadata": {},
   "source": [
    "### [Ollama Python Library](https://github.com/ollama/ollama-python)"
   ]
  },
  {
   "cell_type": "code",
   "execution_count": 38,
   "id": "07b0a2e9",
   "metadata": {},
   "outputs": [
    {
     "name": "stdout",
     "output_type": "stream",
     "text": [
      "The sky appears blue because of a phenomenon called scattering, which occurs when sunlight interacts with the tiny molecules of gases in the Earth's atmosphere. Here's a simplified explanation:\n",
      "\n",
      "1. **Sunlight enters the Earth's atmosphere**: When the sun shines, it emits all colors of the visible spectrum (red, orange, yellow, green, blue, indigo, and violet) as light.\n",
      "2. **Light encounters tiny molecules**: As sunlight travels through the atmosphere, it encounters tiny molecules of gases such as nitrogen (N2) and oxygen (O2). These molecules are much smaller than the wavelength of light.\n",
      "3. **Scattering occurs**: When light hits these tiny molecules, it is scattered in all directions. This scattering effect is more pronounced for shorter wavelengths (like blue and violet) because they are more easily deflected by the small molecules.\n",
      "4. **Blue light is scattered more than other colors**: Due to this phenomenon, the blue light is distributed throughout the atmosphere in all directions, making the sky appear blue. The other colors of the spectrum, like red and orange, have longer wavelengths, which are less affected by scattering and therefore continue straight down to our eyes.\n",
      "5. **Our eyes perceive the scattered light as blue**: When we look at the sky, we see primarily the blue light that has been scattered in all directions, giving us the impression of a blue sky.\n",
      "\n",
      "This is why the sky appears blue during the daytime, especially when it's overcast or hazy, because the scattering effect is more pronounced. However, during sunrise and sunset, the sky can take on hues of red, orange, and pink due to the longer wavelengths of light being able to travel through the atmosphere with less scattering.\n",
      "\n",
      "In summary, the blue color of the sky is a result of the scattering of sunlight by tiny molecules in the Earth's atmosphere, which favors shorter wavelengths (like blue) over longer wavelengths (like red).\n"
     ]
    }
   ],
   "source": [
    "from ollama import chat\n",
    "from ollama import ChatResponse\n",
    "\n",
    "response: ChatResponse = chat(model='llama3.2',\n",
    "                            messages=[\n",
    "                            {\n",
    "                                'role': 'user',\n",
    "                                'content': 'Why is the sky blue?',\n",
    "                            },\n",
    "                            ])\n",
    "\n",
    "# Print the response from the chat\n",
    "print(response.message.content)"
   ]
  },
  {
   "cell_type": "markdown",
   "id": "17bf581f",
   "metadata": {},
   "source": [
    "#### Streaming responses"
   ]
  },
  {
   "cell_type": "code",
   "execution_count": 39,
   "id": "84d8e73b",
   "metadata": {},
   "outputs": [
    {
     "name": "stdout",
     "output_type": "stream",
     "text": [
      "The sky appears blue because of a phenomenon called Rayleigh scattering, named after the British physicist Lord Rayleigh. He discovered that when sunlight enters Earth's atmosphere, it encounters tiny molecules of gases such as nitrogen and oxygen.\n",
      "\n",
      "These gas molecules are much smaller than the wavelength of light, which means they scatter the shorter (blue) wavelengths more efficiently than the longer (red) wavelengths. This is known as Rayleigh scattering.\n",
      "\n",
      "Here's what happens:\n",
      "\n",
      "1. Sunlight enters Earth's atmosphere.\n",
      "2. The short-wavelength blue light (around 450-495 nanometers) is scattered in all directions by the tiny gas molecules.\n",
      "3. The shorter wavelength is bent (or scattered) more than the longer wavelengths, such as red and orange light (around 620-750 nanometers).\n",
      "4. Our eyes perceive the scattered blue light as a bright blue color.\n",
      "\n",
      "The amount of scattering that occurs depends on the angle of view and atmospheric conditions, like air pollution and humidity. That's why the sky can appear more vibrant during sunrise and sunset when the sun is lower in the atmosphere.\n",
      "\n",
      "So, to summarize: the sky appears blue because of Rayleigh scattering, where tiny gas molecules scatter shorter wavelengths (like blue light) more efficiently than longer wavelengths (like red light), making our eyes perceive the sky as a brilliant blue color."
     ]
    }
   ],
   "source": [
    "from ollama import chat\n",
    "\n",
    "stream = chat(\n",
    "    model='llama3.2',\n",
    "    messages=[{'role': 'user', 'content': 'Why is the sky blue?'}],\n",
    "    stream=True,\n",
    ")\n",
    "\n",
    "for chunk in stream:\n",
    "    print(chunk['message']['content'], end='', flush=True)"
   ]
  },
  {
   "cell_type": "markdown",
   "id": "9c19456d",
   "metadata": {},
   "source": [
    "#### Custom client\n"
   ]
  },
  {
   "cell_type": "code",
   "execution_count": null,
   "id": "dd6152a9",
   "metadata": {},
   "outputs": [],
   "source": [
    "from ollama import Client\n",
    "client = Client(\n",
    "    host='http://localhost:11434',\n",
    "    headers={'x-some-header': 'some-value'}\n",
    ")\n",
    "response = client.chat(\n",
    "                model='llama3.2', \n",
    "                messages=[\n",
    "                        {\n",
    "                            'role': 'user',\n",
    "                            'content': 'Why is the sky blue?',\n",
    "                        },\n",
    "                        ])"
   ]
  },
  {
   "cell_type": "code",
   "execution_count": 43,
   "id": "cef6fcba",
   "metadata": {},
   "outputs": [
    {
     "data": {
      "text/plain": [
       "\"The sky appears blue because of a phenomenon called Rayleigh scattering, named after the British physicist Lord Rayleigh, who first described it in the late 19th century.\\n\\nHere's what happens:\\n\\n1. When sunlight enters Earth's atmosphere, it encounters tiny molecules of gases such as nitrogen (N2) and oxygen (O2).\\n2. These gas molecules scatter the light in all directions, but they scatter shorter (blue) wavelengths more than longer (red) wavelengths.\\n3. This is because the smaller molecules are more efficient at scattering the shorter wavelengths of light.\\n4. As a result, the blue light is scattered in all directions and reaches our eyes from all parts of the sky, giving it a blue appearance.\\n\\nOn the other hand, the red light is not scattered as much and continues to travel in a straight line, reaching our eyes only when it comes from a distant object or the horizon. This is why the sky often appears more blue during the daytime and takes on hues of red or orange during sunrise and sunset, when the sun's light has to travel through more of the atmosphere.\\n\\nIt's worth noting that the color of the sky can also be affected by other factors, such as:\\n\\n* Atmospheric conditions: Dust, pollution, and water vapor in the air can scatter light and change its color.\\n* Time of day: As mentioned earlier, the sun's position in the sky affects the amount of direct sunlight we receive.\\n* Weather: Clouds, fog, and haze can alter the way light scatters and reaches our eyes.\\n\\nSo, while the blue color of the sky is primarily due to Rayleigh scattering, there are many other factors that can influence its appearance.\""
      ]
     },
     "execution_count": 43,
     "metadata": {},
     "output_type": "execute_result"
    }
   ],
   "source": [
    "response.message.content    "
   ]
  },
  {
   "cell_type": "markdown",
   "id": "8a7a7902",
   "metadata": {},
   "source": [
    "#### Async client"
   ]
  },
  {
   "cell_type": "code",
   "execution_count": null,
   "id": "ad90b74b",
   "metadata": {},
   "outputs": [
    {
     "name": "stdout",
     "output_type": "stream",
     "text": [
      "The sky appears blue because of a phenomenon called scattering, which occurs when sunlight interacts with the tiny molecules of gases in the Earth's atmosphere.\n",
      "\n",
      "Here's what happens:\n",
      "\n",
      "1. Sunlight enters Earth's atmosphere and encounters tiny molecules of gases such as nitrogen (N2) and oxygen (O2).\n",
      "2. The shorter (blue) wavelengths of light are scattered more than the longer (red) wavelengths by these gas molecules.\n",
      "3. This scattering effect is more pronounced for blue light because it has a shorter wavelength, which allows it to change direction more easily.\n",
      "4. As the scattered blue light travels through the atmosphere, our eyes see it and perceive the sky as blue.\n",
      "\n",
      "This phenomenon is known as Rayleigh scattering, named after the British physicist Lord Rayleigh, who first described it in the late 19th century. The reason why we don't see the sky as red is because red light has a longer wavelength, which is less affected by the gas molecules and therefore doesn't scatter as much.\n",
      "\n",
      "It's worth noting that the color of the sky can vary depending on several factors, such as:\n",
      "\n",
      "* Time of day: During sunrise and sunset, the sky can take on hues of red, orange, and pink due to the scattering of light by atmospheric particles.\n",
      "* Atmospheric conditions: Pollution, dust, and water vapor in the air can scatter light and change the color of the sky.\n",
      "* Altitude: At higher altitudes, the atmosphere is thinner, and the blue color of the sky may be more pronounced.\n",
      "\n",
      "So, that's why the sky appears blue!\n"
     ]
    }
   ],
   "source": [
    "from ollama import AsyncClient\n",
    "import nest_asyncio\n",
    "\n",
    "# Allow nested event loops \n",
    "nest_asyncio.apply()\n",
    "\n",
    "async def chat():\n",
    "    message = {'role': 'user', \n",
    "                'content': 'Why is the sky blue?'}\n",
    "    response = await AsyncClient().chat(model='llama3.2', \n",
    "                                        messages=[message])\n",
    "    print(response.message.content)\n",
    "\n",
    "# Run the async function\n",
    "await chat()"
   ]
  },
  {
   "cell_type": "markdown",
   "id": "0d166edf",
   "metadata": {},
   "source": [
    "### Langchain"
   ]
  },
  {
   "cell_type": "code",
   "execution_count": 46,
   "id": "b0d38b87",
   "metadata": {},
   "outputs": [
    {
     "name": "stdout",
     "output_type": "stream",
     "text": [
      "0.3.24\n"
     ]
    }
   ],
   "source": [
    "import langchain\n",
    "print(langchain.__version__)"
   ]
  },
  {
   "cell_type": "code",
   "execution_count": 48,
   "id": "b4f8ba30",
   "metadata": {},
   "outputs": [
    {
     "name": "stdout",
     "output_type": "stream",
     "text": [
      "The reason why the sky appears blue is a fascinating phenomenon that has captivated humans for centuries. Here's a simplified explanation:\n",
      "\n",
      "**Scattering of Light**\n",
      "\n",
      "When sunlight enters Earth's atmosphere, it encounters tiny molecules of gases such as nitrogen (N2) and oxygen (O2). These molecules scatter the light in all directions. However, not all colors of light are scattered equally.\n",
      "\n",
      "**Short-Wavelength Blues and Violets Scattered More**\n",
      "\n",
      "The shorter, blue wavelengths are scattered more than the longer, red wavelengths. This is known as Rayleigh scattering, named after the British physicist Lord Rayleigh, who first described it in the late 19th century. The smaller the wavelength, the more easily it can be scattered by the tiny molecules of gases.\n",
      "\n",
      "**Why Blues Appear More Than Reds**\n",
      "\n",
      "There are a few reasons why blue light is scattered more than red light:\n",
      "\n",
      "1. **Wavelength**: Blue light has a shorter wavelength (around 450-495 nanometers) compared to red light (around 620-750 nanometers). This means that the smaller molecules of gases are better at scattering blue light.\n",
      "2. **Energy**: Blue light has more energy than red light, which makes it easier for the molecules to scatter.\n",
      "3. **Angular dependence**: The amount of scattering also depends on the angle between the incoming light and the scattered light. For shorter wavelengths like blue light, this angular dependence is greater, leading to more scattering.\n",
      "\n",
      "**Why We See Blue**\n",
      "\n",
      "When we look at the sky, we see mostly blue light because:\n",
      "\n",
      "1. **Direct sunlight**: When sunlight enters Earth's atmosphere, it travels in a straight line.\n",
      "2. **Scattered light**: The scattered blue light from all directions reaches our eyes, making the sky appear blue.\n",
      "3. **Atmospheric conditions**: The amount of scattering and the color of the atmosphere also affect the apparent color of the sky.\n",
      "\n",
      "**Other Colors**\n",
      "\n",
      "While the blue sky is the most visible, other colors can be seen under specific conditions:\n",
      "\n",
      "* **Sunrise and sunset**: The sun's position in the sky means that the light travels through more of the atmosphere, which scatters shorter wavelengths (like red and orange) more than longer wavelengths.\n",
      "* **Clouds and air pollution**: Tiny particles in clouds or polluted air can scatter light differently, changing its apparent color.\n",
      "\n",
      "Now you know why the sky appears blue!\n"
     ]
    }
   ],
   "source": [
    "from langchain_community.llms import Ollama\n",
    "ollama = Ollama(\n",
    "    base_url='http://localhost:11434',\n",
    "    model=\"llama3.2\"\n",
    ")\n",
    "print(ollama.invoke(\"why is the sky blue\"))"
   ]
  },
  {
   "cell_type": "code",
   "execution_count": 50,
   "id": "ab805d17",
   "metadata": {},
   "outputs": [
    {
     "name": "stdout",
     "output_type": "stream",
     "text": [
      "Egypt is an ancient and mystical land, rich in history and culture, with the iconic Pyramids of Giza, Nile River, and vibrant cities like Cairo and Alexandria.\n"
     ]
    }
   ],
   "source": [
    "from langchain_community.llms import Ollama\n",
    "\n",
    "# Initialize Ollama\n",
    "ollama = Ollama(\n",
    "    base_url='http://localhost:11434',\n",
    "    model=\"llama3.2\" \n",
    ")\n",
    "\n",
    "prompt=\"\"\"\n",
    "write a one line description of egypt\n",
    "\"\"\".strip()\n",
    "\n",
    "print(ollama.invoke(prompt))"
   ]
  },
  {
   "cell_type": "markdown",
   "id": "714b454d",
   "metadata": {},
   "source": [
    "*   ### PromptTemplate"
   ]
  },
  {
   "cell_type": "code",
   "execution_count": null,
   "id": "97b115b1",
   "metadata": {},
   "outputs": [
    {
     "name": "stdout",
     "output_type": "stream",
     "text": [
      "A question that takes us back to ancient history!\n",
      "\n",
      "The capital of Egypt is Cairo. Located in the northern part of the country, Cairo has been the seat of government and culture for over 700 years.\n",
      "\n",
      "Cairo was founded in 969 AD by the Fatimid dynasty, a Shia Islamic caliphate, as a fortified settlement on the west bank of the Nile River. The city's strategic location allowed it to become an important center of trade and commerce between Europe and Asia.\n",
      "\n",
      "Over time, Cairo has played a significant role in shaping Egyptian history and culture. The city has been ruled by various dynasties, including the Mamluks, who built many of its iconic landmarks, such as the Mosque of Muhammad Ali Pasha and the Citadel of Saladin.\n",
      "\n",
      "In 1919, Cairo became the capital of modern Egypt after the country gained independence from British colonial rule. Since then, it has continued to be an important center of politics, economy, and culture in Egypt.\n",
      "\n",
      "Today, Cairo is home to over 20 million people, making it one of the largest cities in Africa. The city is a treasure trove of history, with many ancient monuments and landmarks, including the Pyramids of Giza, the Egyptian Museum, and the Mosque of Muhammad Ali Pasha.\n",
      "\n",
      "Some interesting facts about Cairo:\n",
      "\n",
      "* Cairo is the oldest capital city in the Arab world.\n",
      "* The city's name comes from the Arabic word \"qāhira,\" meaning \"the victorious.\"\n",
      "* Cairo is home to over 400 mosques and churches.\n",
      "* The city has a rich cultural heritage, with many festivals and events taking place throughout the year.\n",
      "\n",
      "In conclusion, Cairo is not only the capital of Egypt but also a symbol of the country's rich history, culture, and resilience. Its strategic location on the Nile River has made it an important center of trade, commerce, and politics for centuries, making it one of the most fascinating cities in the world.\n"
     ]
    }
   ],
   "source": [
    "from langchain.prompts import PromptTemplate\n",
    "from langchain_community.llms import Ollama\n",
    "\n",
    "# Initialize the Ollama model\n",
    "ollama = Ollama(\n",
    "    base_url='http://localhost:11434',\n",
    "    model=\"llama3.2\",\n",
    "    temperature=0.7,\n",
    "    top_p=0.9,\n",
    "    top_k=50\n",
    ")\n",
    "\n",
    "# Define the prompt template\n",
    "template = \"\"\"\n",
    "Question: {question}\n",
    "Please provide a detailed answer.\n",
    "\"\"\"\n",
    "prompt = PromptTemplate(\n",
    "    input_variables=[\"question\"],\n",
    "    template=template,\n",
    ")\n",
    "\n",
    "# Create a RunnableSequence\n",
    "chain = prompt | ollama\n",
    "\n",
    "# Ask the question with additional parameters\n",
    "question = \"What is the capital of Egypt?\"\n",
    "response = chain.invoke(\n",
    "    {\"question\": question},\n",
    "    config={\n",
    "        \"llm_kwargs\": {\n",
    "            \"repetition_penalty\": 1.2,\n",
    "            \"seed\": 101,\n",
    "            \"num_predict\": 100,\n",
    "            \"num_ctx\": 2048\n",
    "        }\n",
    "    }\n",
    ")\n",
    "\n",
    "# Print the response\n",
    "print(response)"
   ]
  },
  {
   "cell_type": "markdown",
   "id": "ef5b4212",
   "metadata": {},
   "source": [
    "### OutputParser"
   ]
  },
  {
   "cell_type": "code",
   "execution_count": null,
   "id": "11758e2b",
   "metadata": {},
   "outputs": [
    {
     "name": "stdout",
     "output_type": "stream",
     "text": [
      "Question: Is Paris the capital of France?\n",
      "Answer: True\n",
      "\n",
      "Question: Is the Earth flat?\n",
      "Answer: False\n",
      "\n",
      "Question: Is Python a programming language?\n",
      "Answer: True\n",
      "\n"
     ]
    }
   ],
   "source": [
    "from langchain.output_parsers import BooleanOutputParser\n",
    "from langchain_ollama import OllamaLLM\n",
    "from langchain.prompts import PromptTemplate\n",
    "\n",
    "# Initialize the Ollama model\n",
    "ollama = OllamaLLM(\n",
    "    base_url='http://localhost:11434',\n",
    "    model=\"llama3.2\",\n",
    "    temperature=0.7,\n",
    "    top_p=0.9,\n",
    "    top_k=50\n",
    ")\n",
    "\n",
    "# Initialize the output parser\n",
    "output_parser = BooleanOutputParser()\n",
    "\n",
    "# Create a template that will yield a yes/no answer\n",
    "template = \"\"\"Given the following question, answer with YES or NO only.\n",
    "Question: {question}\n",
    "Answer: \"\"\"\n",
    "\n",
    "# Define the prompt template\n",
    "prompt = PromptTemplate(\n",
    "    input_variables=[\"question\"],\n",
    "    template=template,\n",
    ")\n",
    "\n",
    "# Create a RunnableSequence\n",
    "chain = prompt | ollama | output_parser\n",
    "\n",
    "# Example questions to test\n",
    "questions = [\n",
    "    \"Is Paris the capital of France?\",\n",
    "    \"Is the Earth flat?\",\n",
    "    \"Is Python a programming language?\"\n",
    "]\n",
    "\n",
    "# Run the chain for each question\n",
    "for question in questions:\n",
    "    result = chain.invoke({\"question\": question})\n",
    "    print(f\"Question: {question}\")\n",
    "    print(f\"Answer: {result}\\n\")"
   ]
  },
  {
   "cell_type": "code",
   "execution_count": 6,
   "id": "ece6b00b",
   "metadata": {},
   "outputs": [
    {
     "name": "stdout",
     "output_type": "stream",
     "text": [
      "\n",
      "Review Results:\n",
      "Title: The Matrix\n",
      "Rating: 9\n",
      "Reasons:\n",
      "- Groundbreaking special effects\n",
      "- Intricate plot\n",
      "- Thought-provoking themes\n",
      "- Impressive action sequences\n",
      "- Strong performances from the cast\n"
     ]
    }
   ],
   "source": [
    "from langchain.prompts import PromptTemplate\n",
    "from langchain_ollama import OllamaLLM\n",
    "from langchain.output_parsers import PydanticOutputParser\n",
    "from pydantic import BaseModel, Field\n",
    "from typing import List\n",
    "\n",
    "\n",
    "\n",
    "ollama = OllamaLLM(\n",
    "    base_url='http://localhost:11434',\n",
    "    model=\"llama3.2\",\n",
    "    temperature=0.7,\n",
    "    top_p=0.9,\n",
    "    top_k=50\n",
    ")\n",
    "\n",
    "class MovieReview(BaseModel):\n",
    "    title: str = Field(description=\"The title of the movie\")\n",
    "    rating: int = Field(description=\"Rating from 1-10\")\n",
    "    reasons: List[str] = Field(description=\"Reasons for the rating\")\n",
    "\n",
    "output_parser = PydanticOutputParser(pydantic_object=MovieReview)\n",
    "\n",
    "template = \"\"\"Create a movie review in JSON format for the movie: {movie}\n",
    "    \n",
    "    Your response must be a valid JSON object with these fields:\n",
    "    - title (string)\n",
    "    - rating (integer 1-10)\n",
    "    - reasons (array of strings)\n",
    "    \n",
    "    Respond with ONLY the JSON object.\"\"\"\n",
    "\n",
    "prompt = PromptTemplate(\n",
    "    input_variables=[\"movie\"],\n",
    "    template=template,\n",
    ")\n",
    "\n",
    "# Create a RunnableSequence\n",
    "chain = prompt | ollama | output_parser\n",
    "\n",
    "result = chain.invoke({\"movie\": \"The Matrix\"})\n",
    "print(\"\\nReview Results:\")\n",
    "print(f\"Title: {result.title}\")\n",
    "print(f\"Rating: {result.rating}\")\n",
    "print(\"Reasons:\")\n",
    "for reason in result.reasons:\n",
    "    print(f\"- {reason}\")"
   ]
  },
  {
   "cell_type": "markdown",
   "id": "6a8ca0bb",
   "metadata": {},
   "source": [
    "### Plugging a memory system"
   ]
  },
  {
   "cell_type": "code",
   "execution_count": 13,
   "id": "37eacfb4",
   "metadata": {},
   "outputs": [
    {
     "name": "stdout",
     "output_type": "stream",
     "text": [
      "Question: What is machine learning?\n",
      "Response: Machine learning is a type of artificial intelligence (AI) that involves training algorithms to learn from data, without being explicitly programmed. In other words, it's a way for computers to improve their performance on a task by automatically adjusting to new or changing data.\n",
      "\n",
      "Think of it like this: Imagine you're teaching a child to recognize pictures of dogs and cats. At first, the child might not know what makes a dog different from a cat, but as they see more examples, they start to develop a sense of what looks like a dog and what doesn't. Machine learning works in a similar way - by showing an algorithm many examples of data (like pictures of dogs), it can learn to recognize patterns and make predictions or decisions on its own.\n",
      "\n",
      "There are several types of machine learning, including:\n",
      "\n",
      "1. Supervised learning: The algorithm is trained on labeled data, where the correct output is already known.\n",
      "2. Unsupervised learning: The algorithm is trained on unlabeled data, and must find patterns or structure on its own.\n",
      "3. Reinforcement learning: The algorithm learns through trial and error, by receiving feedback in the form of rewards or penalties.\n",
      "\n",
      "Machine learning has many applications in areas like computer vision, natural language processing, speech recognition, and more! What do you think? Would you like to know more about a specific type of machine learning?\n",
      "\n",
      "Question: Can you give me some examples of its applications?\n",
      "Response: Machine learning has numerous applications across various industries. Here are some examples:\n",
      "\n",
      "1. **Computer Vision**: Self-driving cars, facial recognition systems, object detection in images and videos, and more. For instance, Google's self-driving car technology uses machine learning to recognize objects, pedestrians, and lanes.\n",
      "\n",
      "2. **Natural Language Processing (NLP)**: Virtual assistants like Siri, Alexa, and Google Assistant use machine learning to understand voice commands and respond accordingly.\n",
      "\n",
      "3. **Speech Recognition**: Voice-to-text systems like Dragon NaturallySpeaking or Apple's Dictation use machine learning to transcribe spoken words into text.\n",
      "\n",
      "4. **Recommendation Systems**: Online retailers like Amazon and Netflix use machine learning to suggest products based on a user's past purchases and browsing history.\n",
      "\n",
      "5. **Image and Video Analysis**: Machine learning can be used for image classification (e.g., recognizing objects, scenes), object detection, and video analysis (e.g., monitoring traffic flow).\n",
      "\n",
      "6. **Healthcare**: Machine learning is being used in medical diagnosis, disease prediction, personalized medicine, and patient outcomes prediction.\n",
      "\n",
      "7. **Customer Service Chatbots**: Many companies use machine learning-powered chatbots to respond to customer inquiries, route tickets to the right support agents, and provide basic troubleshooting assistance.\n",
      "\n",
      "8. **Predictive Maintenance**: Machine learning can help predict when equipment is likely to fail or require maintenance, reducing downtime and increasing overall efficiency.\n",
      "\n",
      "9. **Financial Analysis**: Machine learning can be used for credit risk assessment, stock price prediction, portfolio optimization, and detecting financial anomalies.\n",
      "\n",
      "10. **Security and Surveillance**: Machine learning-powered systems are being used in security cameras to detect anomalies and alert authorities to potential threats.\n",
      "\n",
      "These examples demonstrate the vast applications of machine learning across various domains. Would you like to know more about any specific application or technology?\n",
      "\n",
      "Question: What skills do I need to learn it?\n",
      "Response: To get started with machine learning, here are some essential skills and knowledge areas:\n",
      "\n",
      "1. **Mathematics**: Machine learning relies heavily on mathematical concepts like linear algebra, calculus, probability, and statistics.\n",
      "\n",
      "2. **Programming**: Python is a popular language used in machine learning, along with R and Julia. Familiarize yourself with at least one of these languages.\n",
      "\n",
      "3. **Data Analysis**: Understand how to work with data, including data cleaning, feature engineering, and visualization techniques.\n",
      "\n",
      "4. **Algorithms**: Learn about various machine learning algorithms, such as supervised learning (e.g., linear regression, logistic regression), unsupervised learning (e.g., k-means clustering, principal component analysis), and deep learning (e.g., neural networks).\n",
      "\n",
      "5. **Data Preprocessing**: Understand how to preprocess data for machine learning, including handling missing values, normalization, and feature scaling.\n",
      "\n",
      "6. **Model Evaluation**: Learn about metrics used to evaluate the performance of machine learning models, such as accuracy, precision, recall, F1 score, and mean squared error.\n",
      "\n",
      "7. **Deep Learning**: Familiarize yourself with deep learning concepts like convolutional neural networks (CNNs), recurrent neural networks (RNNs), and long short-term memory (LSTM) networks.\n",
      "\n",
      "8. **TensorFlow or PyTorch**: Learn a popular deep learning framework like TensorFlow or PyTorch, which are widely used in industry and academia.\n",
      "\n",
      "9. **Data Visualization**: Understand how to visualize data effectively using libraries like Matplotlib, Seaborn, or Plotly.\n",
      "\n",
      "10. **Domain Knowledge**: Familiarize yourself with the specific domain you want to apply machine learning to (e.g., computer vision, NLP, healthcare).\n",
      "\n",
      "To get started, I recommend:\n",
      "\n",
      "1. Online courses: Take online courses on platforms like Coursera, edX, or Udemy to learn the basics of machine learning.\n",
      "2. Books: Read books like \"Python Machine Learning\" by Sebastian Raschka, \"Deep Learning\" by Ian Goodfellow, Yoshua Bengio, and Aaron Courville, or \"Pattern Recognition and Machine Learning\" by Christopher Bishop.\n",
      "3. Tutorials and Blogs: Follow tutorials and blogs on machine learning platforms like Kaggle, Towards Data Science, or KDnuggets.\n",
      "4. Practice: Start with simple projects and gradually move to more complex ones to practice your skills.\n",
      "\n",
      "Which skill area would you like to start with?\n",
      "\n"
     ]
    }
   ],
   "source": [
    "from langchain.prompts import PromptTemplate\n",
    "from langchain_ollama import OllamaLLM\n",
    "from langchain.memory import ConversationBufferMemory\n",
    "from langchain_core.runnables import RunnableSequence\n",
    "from langchain_core.messages import HumanMessage, AIMessage\n",
    "\n",
    "# Initialize the Ollama model\n",
    "ollama = OllamaLLM(\n",
    "    base_url='http://localhost:11434',\n",
    "    model=\"llama3.2\",\n",
    "    temperature=0.7,\n",
    "    top_p=0.9,\n",
    "    top_k=50\n",
    ")\n",
    "\n",
    "# Chat with Memory Example\n",
    "memory = ConversationBufferMemory(\n",
    "    memory_key=\"chat_history\",\n",
    "    return_messages=True\n",
    ")\n",
    "\n",
    "# Define the prompt template\n",
    "chat_template = \"\"\"\n",
    "Chat History: {chat_history}\n",
    "Human: {human_input}\n",
    "Assistant: Let me help you with that.\n",
    "\"\"\"\n",
    "\n",
    "chat_prompt = PromptTemplate(\n",
    "    input_variables=[\"chat_history\", \"human_input\"],\n",
    "    template=chat_template\n",
    ")\n",
    "\n",
    "# Create a RunnableSequence\n",
    "chain = RunnableSequence(chat_prompt | ollama)\n",
    "\n",
    "# Simulate a conversation with manual memory management\n",
    "responses = []\n",
    "questions = [\n",
    "    \"What is machine learning?\",\n",
    "    \"Can you give me some examples of its applications?\",\n",
    "    \"What skills do I need to learn it?\"\n",
    "]\n",
    "\n",
    "for question in questions:\n",
    "    # Get the current chat history\n",
    "    chat_history = memory.load_memory_variables({})[\"chat_history\"]\n",
    "    # Format chat history as a string for the prompt\n",
    "    history_str = \"\"\n",
    "    for msg in chat_history:\n",
    "        if isinstance(msg, HumanMessage):\n",
    "            history_str += f\"Human: {msg.content}\\n\"\n",
    "        elif isinstance(msg, AIMessage):\n",
    "            history_str += f\"Assistant: {msg.content}\\n\"\n",
    "    \n",
    "    # Invoke the chain with the current history and question\n",
    "    response = chain.invoke({\n",
    "        \"chat_history\": history_str,\n",
    "        \"human_input\": question\n",
    "    })\n",
    "    \n",
    "    # Save the human input and AI response to memory\n",
    "    memory.save_context(\n",
    "        inputs={\"human_input\": question},\n",
    "        outputs={\"output\": response}\n",
    "    )\n",
    "    \n",
    "    # Store the response\n",
    "    responses.append({\"question\": question, \"response\": response})\n",
    "\n",
    "# Print responses for clarity\n",
    "for res in responses:\n",
    "    print(f\"Question: {res['question']}\")\n",
    "    print(f\"Response: {res['response']}\\n\")"
   ]
  },
  {
   "cell_type": "code",
   "execution_count": 16,
   "id": "d9b3b223",
   "metadata": {},
   "outputs": [
    {
     "name": "stdout",
     "output_type": "stream",
     "text": [
      "[Document(metadata={'source': 'https://python.langchain.com/docs/integrations/document_loaders/web_base/', 'title': 'WebBaseLoader | 🦜️🔗 LangChain', 'description': 'This covers how to use WebBaseLoader to load all text from HTML webpages into a document format that we can use downstream. For more custom logic for loading webpages look at some child class examples such as IMSDbLoader, AZLyricsLoader, and CollegeConfidentialLoader.', 'language': 'en'}, page_content='\\n\\n\\n\\n\\nWebBaseLoader | 🦜️🔗 LangChain\\n\\n\\n\\n\\n\\n\\nSkip to main contentJoin us at  Interrupt: The Agent AI Conference by LangChain on May 13 & 14 in San Francisco!IntegrationsAPI ReferenceMoreContributingPeopleError referenceLangSmithLangGraphLangChain HubLangChain JS/TSv0.3v0.3v0.2v0.1💬SearchProvidersAnthropicAWSGoogleHugging FaceMicrosoftOpenAIMoreProvidersAbsoAcreomActiveloop Deep LakeADS4GPTsAerospikeAgentQLAI21 LabsAimAINetworkAirbyteAirtableAlchemyAleph AlphaAlibaba CloudAnalyticDBAnnoyAnthropicAnyscaleApache Software FoundationApache DorisApifyAppleArangoDBArceeArcGISArgillaArizeArthurArxivAscendAskNewsAssemblyAIAstra DBAtlasAwaDBAWSAZLyricsAzure AIBAAIBagelBagelDBBaichuanBaiduBananaBasetenBeamBeautiful SoupBibTeXBiliBiliBittensorBlackboardbookend.aiBoxBrave SearchBreebs (Open Knowledge)BrowserbaseBrowserlessByteDanceCassandraCerebrasCerebriumAIChaindeskChromaClarifaiClearMLClickHouseClickUpCloudflareClovaCnosDBCogneeCogniSwitchCohereCollege ConfidentialCometConfident AIConfluenceConneryContextContextual AICouchbaseCozeCrateDBC TransformersCTranslate2CubeDappierDashVectorDatabricksDatadog TracingDatadog LogsDataForSEODataheraldDedocDeepInfraDeeplakeDeepSeekDeepSparseDellDiffbotDingoDBDiscordDiscord (community loader)DocArrayDoclingDoctranDocugamiDocusaurusDriaDropboxDSPyDuckDBDuckDuckGo SearchE2BEden AIElasticsearchElevenLabsEmbedchainEpsillaEtherscanEverly AIEverNoteExaFacebook - MetaFalkorDBFaunaFiddlerFigmaFireCrawlFireworks AIFlyteFMP Data (Financial Data Prep)Forefront AIFriendli AISmabblerGeopandasGitGitBookGitHubGitLabGOATGoldenGoodfireGoogleSerper - Google Search APIGooseAIGPT4AllGradientGraph RAGGraphsignalGrobidGroqGutenbergHacker NewsHazy ResearchHeliconeHologresHTML to textHuaweiHugging FaceHyperbrowserIBMIEIT SystemsiFixitiFlytekIMSDbInfinispan VSInfinityInfinoIntelIuguJaguarJavelin AI GatewayJenkinsJina AIJohnsnowlabsJoplinKDB.AIKineticaKoboldAIKonkoKoNLPYKùzuLabel StudiolakeFSLanceDBLangChain Decorators ✨LangFair: Use-Case Level LLM Bias and Fairness AssessmentsLangfuse 🪢LanternLindormLinkupLiteLLMLlamaIndexLlama.cppLlamaEdgellamafileLLMonitorLocalAILog10MariaDBMariTalkMarqoMediaWikiDumpMeilisearchMemcachedMemgraphMetalMicrosoftMilvusMindsDBMinimaxMistralAIMLflow AI Gateway for LLMsMLflowMLXModalModelScopeModern TreasuryMomentoMongoDBMongoDB AtlasMotherduckMotörheadMyScaleNAVERNeo4jNetmindNimbleNLPCloudNomicNotion DBNucliaNVIDIAObsidianOceanBaseOracle Cloud Infrastructure (OCI)OctoAIOllamaOntotext GraphDBOpenAIOpenGradientOpenLLMOpenSearchOpenWeatherMapOracleAI Vector SearchOutlineOutlinesOxylabsPandasPaymanAIPebbloPermitPerplexityPetalsPostgres EmbeddingPGVectorPineconePipelineAIPipeshiftPortkeyPredibasePrediction GuardPremAISWI-PrologPromptLayerPsychicPubMedPullMd LoaderPygmalionAIPyMuPDF4LLMQdrantRAGatouillerank_bm25Ray ServeRebuffRedditRedisRemembrallReplicateRoamSema4 (fka Robocorp)RocksetRunhouseRunpodRWKV-4SalesforceSalute DevicesSambaNovaSAPScrapeGraph AISearchApiSearxNG Search APISemaDBSerpAPIShale ProtocolSingleStore Integrationscikit-learnSlackSnowflakespaCySparkSparkLLMSpreedlySQLiteStack ExchangeStarRocksStochasticAIStreamlitStripeSupabase (Postgres)NebulaTableauTaigaTairTavilyTelegramTencentTensorFlow DatasetsTiDBTigerGraphTigrisTiloresTogether AI2MarkdownTranswarpTrelloTrubricsTruLensTwitterTypesenseUnstructuredUpstageupstashUpTrainUSearchValtheraValyuContextVDMSVearchVectaraVectorizeVespavliteVoyageAIWeights & BiasesWeights & Biases tracingWeights & Biases trackingWeatherWeaviateWhatsAppWhyLabsWikipediaWolfram AlphaWriter, Inc.xAIXataXorbits Inference (Xinference)YahooYandexYDBYeager.aiYellowbrick01.AIYouYouTubeZepZhipu AIZillizZoteroComponentsChat modelsChat modelsAbsoAI21 LabsAlibaba Cloud PAI EASAnthropic[Deprecated] Experimental Anthropic Tools WrapperAnyscaleAzureAIChatCompletionsModelAzure OpenAIAzure ML EndpointBaichuan ChatBaidu QianfanAWS BedrockCerebrasCloudflareWorkersAICohereContextualAICoze ChatDappier AIDatabricksDeepInfraDeepSeekEden AIErnie Bot ChatEverlyAIFireworksChatFriendliGigaChatGoodfireGoogle GeminiGoogle Cloud Vertex AIGPTRouterGroqChatHuggingFaceIBM watsonx.aiJinaChatKineticaKonkoLiteLLMLlama 2 ChatLlama APILlamaEdgeLlama.cppmaritalkMiniMaxMistralAIMLXModelScopeMoonshotNaverNetmindNVIDIA AI EndpointsChatOCIModelDeploymentOCIGenAIChatOctoAIOllamaOpenAIOutlinesPerplexityPipeshiftChatPredictionGuardPremAIPromptLayer ChatOpenAIQwen QwQRekaRunPod Chat ModelSambaNovaCloudSambaStudioChatSeekrFlowSnowflake CortexsolarSparkLLM ChatNebula (Symbl.ai)Tencent HunyuanTogetherTongyi QwenUpstagevectaravLLM ChatVolc Enging MaasChat WriterxAIXinferenceYandexGPTChatYIYuan2.0ZHIPU AIRetrieversRetrieversActiveloop Deep MemoryAmazon KendraArceeArxivAskNewsAzure AI SearchBedrock (Knowledge Bases)BM25BoxBREEBS (Open Knowledge)ChaindeskChatGPT pluginCogneeCohere rerankerCohere RAGContextual AI RerankerDappierDocArrayDriaElasticSearch BM25ElasticsearchEmbedchainFlashRank rerankerFleet AI ContextGalaxiaGoogle DriveGoogle Vertex AI SearchGraph RAGIBM watsonx.aiJaguarDB Vector DatabaseKay.aiKinetica Vectorstore based RetrieverkNNLinkupSearchRetrieverLLMLingua Document CompressorLOTR (Merger Retriever)MetalMilvus Hybrid SearchNanoPQ (Product Quantization)needleNimbleOutlinePermitPinecone Hybrid SearchPubMedQdrant Sparse VectorRAGatouilleRePhraseQueryRememberizerSEC filingSelf-querying retrieversSVMTavilySearchAPITF-IDF**NeuralDB**ValyuContextVectorizeVespaWikipediaYou.comZep CloudZep Open SourceZilliz Cloud PipelineZoteroTools/ToolkitsToolsADS4GPTsAgentQLAINetwork ToolkitAlpha VantageAmadeus ToolkitApify ActorArXivAskNewsAWS LambdaAzure AI Services ToolkitAzure Cognitive Services ToolkitAzure Container Apps dynamic sessionsShell (bash)Bearly Code InterpreterBing SearchBrave SearchCassandra Database ToolkitCDPChatGPT PluginsClickUp ToolkitCogniswitch ToolkitCompass DeFi ToolkitConnery Toolkit and ToolsDall-E Image GeneratorDappierDatabricks Unity Catalog (UC)DataForSEODataheraldDuckDuckGo SearchDiscordE2B Data AnalysisEden AIElevenLabs Text2SpeechExa SearchFile SystemFinancialDatasets ToolkitFMP DataGithub ToolkitGitlab ToolkitGmail ToolkitGOATGolden QueryGoogle BooksGoogle Calendar ToolkitGoogle Cloud Text-to-SpeechGoogle DriveGoogle FinanceGoogle ImagenGoogle JobsGoogle LensGoogle PlacesGoogle ScholarGoogle SearchGoogle SerperGoogle TrendsGradioGraphQLHuggingFace Hub ToolsHuman as a toolHyperbrowser Browser Agent ToolsHyperbrowser Web Scraping ToolsIBM watsonx.aiIFTTT WebHooksInfobipIonic Shopping ToolJenkinsJina SearchJira ToolkitJSON ToolkitLemon AgentLinkupSearchToolMemgraphMemorizeMojeek SearchMultiOn ToolkitNASA ToolkitNaver SearchNuclia UnderstandingNVIDIA Riva: ASR and TTSOffice365 ToolkitOpenAPI ToolkitNatural Language API ToolkitsOpenGradientOpenWeatherMapOracle AI Vector Search: Generate SummaryOxylabsPandas DataframePassio NutritionAIPaymanAIPermitPlayWright Browser ToolkitPolygon IO Toolkit and ToolsPowerBI ToolkitPrologPubMedPython REPLReddit SearchRequests ToolkitRiza Code InterpreterRobocorp ToolkitSalesforceSceneXplainScrapeGraphSearchApiSearxNG SearchSemantic Scholar API ToolSerpAPISlack ToolkitSpark SQL ToolkitSQLDatabase ToolkitStackExchangeSteam ToolkitStripeTableauTaigaTavily ExtractTavily SearchTiloresTwilioUpstageValtheraValyuContextWikidataWikipediaWolfram AlphaWriter ToolsYahoo Finance NewsYou.com SearchYouTubeZapier Natural Language ActionsZenGuard AIDocument loadersDocument loadersacreomAgentQLLoaderAirbyteLoaderAirbyte CDK (Deprecated)Airbyte Gong (Deprecated)Airbyte Hubspot (Deprecated)Airbyte JSON (Deprecated)Airbyte Salesforce (Deprecated)Airbyte Shopify (Deprecated)Airbyte Stripe (Deprecated)Airbyte Typeform (Deprecated)Airbyte Zendesk Support (Deprecated)AirtableAlibaba Cloud MaxComputeAmazon TextractApify DatasetArcGISArxivLoaderAssemblyAI Audio TranscriptsAstraDBAsync ChromiumAsyncHtmlAthenaAWS S3 DirectoryAWS S3 FileAZLyricsAzure AI DataAzure Blob Storage ContainerAzure Blob Storage FileAzure AI Document IntelligenceBibTeXBiliBiliBlackboardBlockchainBoxBrave SearchBrowserbaseBrowserlessBSHTMLLoaderCassandraChatGPT DataCollege ConfidentialConcurrent LoaderConfluenceCoNLL-UCopy PasteCouchbaseCSVCube Semantic LayerDatadog LogsDedocDiffbotDiscordDoclingDocugamiDocusaurusDropboxDuckDBEmailEPubEtherscanEverNoteexample_dataFacebook ChatFaunaFigmaFireCrawlGeopandasGitGitBookGitHubGlue CatalogGoogle AlloyDB for PostgreSQLGoogle BigQueryGoogle BigtableGoogle Cloud SQL for SQL serverGoogle Cloud SQL for MySQLGoogle Cloud SQL for PostgreSQLGoogle Cloud Storage DirectoryGoogle Cloud Storage FileGoogle Firestore in Datastore ModeGoogle DriveGoogle El Carro for Oracle WorkloadsGoogle Firestore (Native Mode)Google Memorystore for RedisGoogle SpannerGoogle Speech-to-Text Audio TranscriptsGrobidGutenbergHacker NewsHuawei OBS DirectoryHuawei OBS FileHuggingFace datasetHyperbrowserLoaderiFixitImagesImage captionsIMSDbIuguJoplinJSONLoaderJupyter NotebookKineticalakeFSLangSmithLarkSuite (FeiShu)LLM SherpaMastodonMathPixPDFLoaderMediaWiki DumpMerge Documents LoadermhtmlMicrosoft ExcelMicrosoft OneDriveMicrosoft OneNoteMicrosoft PowerPointMicrosoft SharePointMicrosoft WordNear BlockchainModern TreasuryMongoDBNeedle Document LoaderNews URLNotion DB 2/2NucliaObsidianOpen Document Format (ODT)Open City DataOracle Autonomous DatabaseOracle AI Vector Search: Document ProcessingOrg-modePandas DataFrameparsersPDFMinerLoaderPDFPlumberPebblo Safe DocumentLoaderPolars DataFrameDell PowerScale Document LoaderPsychicPubMedPullMdLoaderPyMuPDFLoaderPyMuPDF4LLMPyPDFDirectoryLoaderPyPDFium2LoaderPyPDFLoaderPySparkQuipReadTheDocs DocumentationRecursive URLRedditRoamRocksetrspaceRSS FeedsRSTscrapflyScrapingAntSingleStoreSitemapSlackSnowflakeSource CodeSpiderSpreedlyStripeSubtitleSurrealDBTelegramTencent COS DirectoryTencent COS FileTensorFlow DatasetsTiDB2MarkdownTOMLTrelloTSVTwitterUnstructuredUnstructuredMarkdownLoaderUnstructuredPDFLoaderUpstageURLVsdxWeatherWebBaseLoaderWhatsApp ChatWikipediaUnstructuredXMLLoaderXorbits Pandas DataFrameYouTube audioYouTube transcriptsYoutubeLoaderDLYuqueZeroxPDFLoaderVector storesVector storesActiveloop Deep LakeAerospikeAlibaba Cloud OpenSearchAnalyticDBAnnoyApache DorisApertureDBAstra DB Vector StoreAtlasAwaDBAzure Cosmos DB Mongo vCoreAzure Cosmos DB No SQLAzure AI SearchBagelBagelDBBaidu Cloud ElasticSearch VectorSearchBaidu VectorDBApache CassandraChromaClarifaiClickHouseCloudflareVectorizeCouchbaseDashVectorDatabricksDingoDBDocArray HnswSearchDocArray InMemorySearchAmazon Document DBDuckDBChina Mobile ECloud ElasticSearch VectorSearchElasticsearchEpsillaFaissFaiss (Async)FalkorDBVectorStoreGoogle AlloyDB for PostgreSQLGoogle BigQuery Vector SearchGoogle Cloud SQL for MySQLGoogle Cloud SQL for PostgreSQLFirestoreGoogle Memorystore for RedisGoogle SpannerGoogle Vertex AI Feature StoreGoogle Vertex AI Vector SearchHippoHologresInfinispanJaguar Vector DatabaseKDB.AIKineticaLanceDBLanternLindormLLMRailsManticoreSearch VectorStoreMariaDBMarqoMeilisearchAmazon MemoryDBMilvusMomento Vector Index (MVI)MongoDB AtlasMyScaleNeo4j Vector IndexNucliaDBOceanbaseopenGaussOpenSearchOracle AI Vector Search: Vector StorePathwayPostgres EmbeddingPGVecto.rsPGVectorPineconePinecone (sparse)QdrantRedisRelytRocksetSAP HANA Cloud Vector EngineScaNNSemaDBSingleStorescikit-learnSQLiteVecSQLite-VSSSQLServerStarRocksSupabase (Postgres)SurrealDBTablestoreTairTencent Cloud VectorDBThirdAI NeuralDBTiDB VectorTigrisTileDBTimescale Vector (Postgres)TypesenseUpstash VectorUSearchValdVDMSVearchVectaraVespaviking DBvliteWeaviateXataYDBYellowbrickZepZep CloudZillizEmbedding modelsEmbedding modelsAI21Aleph AlphaAnyscaleascendAwaDBAzureOpenAIBaichuan Text EmbeddingsBaidu QianfanBedrockBGE on Hugging FaceBookend AIClarifaiCloudflare Workers AIClova EmbeddingsCohereDashScopeDatabricksDeepInfraEDEN AIElasticsearchEmbaasERNIEFake EmbeddingsFastEmbed by QdrantFireworksGigaChatGoogle GeminiGoogle Vertex AIGPT4AllGradientHugging FaceIBM watsonx.aiInfinityInstruct Embeddings on Hugging FaceIPEX-LLM: Local BGE Embeddings on Intel CPUIPEX-LLM: Local BGE Embeddings on Intel GPUIntel® Extension for Transformers Quantized Text EmbeddingsJinaJohn Snow LabsLASER Language-Agnostic SEntence Representations Embeddings by Meta AILindormLlama.cppllamafileLLMRailsLocalAIMiniMaxMistralAImodel2vecModelScopeMosaicMLNaverNetmindNLP CloudNomicNVIDIA NIMsOracle Cloud Infrastructure Generative AIOllamaOpenClipOpenAIOpenVINOEmbedding Documents using Optimized and Quantized EmbeddersOracle AI Vector Search: Generate EmbeddingsOVHcloudPinecone EmbeddingsPredictionGuardEmbeddingsPremAISageMakerSambaNovaCloudSambaStudioSelf HostedSentence Transformers on Hugging FaceSolarSpaCySparkLLM Text EmbeddingsTensorFlow HubText Embeddings InferenceTextEmbed - Embedding Inference ServerTitan TakeoffTogether AIUpstageVolc EngineVoyage AIXorbits inference (Xinference)YandexGPTZhipuAIOtherComponentsDocument loadersWebBaseLoaderOn this pageWebBaseLoader\\nThis covers how to use WebBaseLoader to load all text from HTML webpages into a document format that we can use downstream. For more custom logic for loading webpages look at some child class examples such as IMSDbLoader, AZLyricsLoader, and CollegeConfidentialLoader.\\nIf you don\\'t want to worry about website crawling, bypassing JS-blocking sites, and data cleaning, consider using FireCrawlLoader or the faster option SpiderLoader.\\nOverview\\u200b\\nIntegration details\\u200b\\n\\nTODO: Fill in table features.\\nTODO: Remove JS support link if not relevant, otherwise ensure link is correct.\\nTODO: Make sure API reference links are correct.\\n\\nClassPackageLocalSerializableJS supportWebBaseLoaderlangchain_community✅❌❌\\nLoader features\\u200b\\nSourceDocument Lazy LoadingNative Async SupportWebBaseLoader✅✅\\nSetup\\u200b\\nCredentials\\u200b\\nWebBaseLoader does not require any credentials.\\nInstallation\\u200b\\nTo use the WebBaseLoader you first need to install the langchain-community python package.\\n%pip install -qU langchain_community beautifulsoup4\\nInitialization\\u200b\\nNow we can instantiate our model object and load documents:\\nfrom langchain_community.document_loaders import WebBaseLoaderloader = WebBaseLoader(\"https://www.example.com/\")API Reference:WebBaseLoader\\nTo bypass SSL verification errors during fetching, you can set the \"verify\" option:\\nloader.requests_kwargs = {\\'verify\\':False}\\nInitialization with multiple pages\\u200b\\nYou can also pass in a list of pages to load from.\\nloader_multiple_pages = WebBaseLoader(    [\"https://www.example.com/\", \"https://google.com\"])\\nLoad\\u200b\\ndocs = loader.load()docs[0]\\nDocument(metadata={\\'source\\': \\'https://www.example.com/\\', \\'title\\': \\'Example Domain\\', \\'language\\': \\'No language found.\\'}, page_content=\\'\\\\n\\\\n\\\\nExample Domain\\\\n\\\\n\\\\n\\\\n\\\\n\\\\n\\\\n\\\\nExample Domain\\\\nThis domain is for use in illustrative examples in documents. You may use this\\\\n    domain in literature without prior coordination or asking for permission.\\\\nMore information...\\\\n\\\\n\\\\n\\\\n\\')\\nprint(docs[0].metadata)\\n{\\'source\\': \\'https://www.example.com/\\', \\'title\\': \\'Example Domain\\', \\'language\\': \\'No language found.\\'}\\nLoad multiple urls concurrently\\u200b\\nYou can speed up the scraping process by scraping and parsing multiple urls concurrently.\\nThere are reasonable limits to concurrent requests, defaulting to 2 per second.  If you aren\\'t concerned about being a good citizen, or you control the server you are scraping and don\\'t care about load, you can change the requests_per_second parameter to increase the max concurrent requests.  Note, while this will speed up the scraping process, but may cause the server to block you.  Be careful!\\n%pip install -qU  nest_asyncio# fixes a bug with asyncio and jupyterimport nest_asyncionest_asyncio.apply()\\nNote: you may need to restart the kernel to use updated packages.\\nloader = WebBaseLoader([\"https://www.example.com/\", \"https://google.com\"])loader.requests_per_second = 1docs = loader.aload()docs\\nFetching pages: 100%|###########################################################################| 2/2 [00:00<00:00,  8.28it/s]\\n[Document(metadata={\\'source\\': \\'https://www.example.com/\\', \\'title\\': \\'Example Domain\\', \\'language\\': \\'No language found.\\'}, page_content=\\'\\\\n\\\\n\\\\nExample Domain\\\\n\\\\n\\\\n\\\\n\\\\n\\\\n\\\\n\\\\nExample Domain\\\\nThis domain is for use in illustrative examples in documents. You may use this\\\\n    domain in literature without prior coordination or asking for permission.\\\\nMore information...\\\\n\\\\n\\\\n\\\\n\\'), Document(metadata={\\'source\\': \\'https://google.com\\', \\'title\\': \\'Google\\', \\'description\\': \"Search the world\\'s information, including webpages, images, videos and more. Google has many special features to help you find exactly what you\\'re looking for.\", \\'language\\': \\'en\\'}, page_content=\\'GoogleSearch Images Maps Play YouTube News Gmail Drive More »Web History | Settings | Sign in\\\\xa0Advanced search5 ways Gemini can help during the HolidaysAdvertisingBusiness SolutionsAbout Google© 2024 - Privacy - Terms  \\')]\\nLoading a xml file, or using a different BeautifulSoup parser\\u200b\\nYou can also look at SitemapLoader for an example of how to load a sitemap file, which is an example of using this feature.\\nloader = WebBaseLoader(    \"https://www.govinfo.gov/content/pkg/CFR-2018-title10-vol3/xml/CFR-2018-title10-vol3-sec431-86.xml\")loader.default_parser = \"xml\"docs = loader.load()docs\\n[Document(metadata={\\'source\\': \\'https://www.govinfo.gov/content/pkg/CFR-2018-title10-vol3/xml/CFR-2018-title10-vol3-sec431-86.xml\\'}, page_content=\\'\\\\n\\\\n10\\\\nEnergy\\\\n3\\\\n2018-01-01\\\\n2018-01-01\\\\nfalse\\\\nUniform test method for the measurement of energy efficiency of commercial packaged boilers.\\\\nÂ§ 431.86\\\\nSection Â§ 431.86\\\\n\\\\nEnergy\\\\nDEPARTMENT OF ENERGY\\\\nENERGY CONSERVATION\\\\nENERGY EFFICIENCY PROGRAM FOR CERTAIN COMMERCIAL AND INDUSTRIAL EQUIPMENT\\\\nCommercial Packaged Boilers\\\\nTest Procedures\\\\n\\\\n\\\\n\\\\n\\\\n§\\\\u2009431.86\\\\nUniform test method for the measurement of energy efficiency of commercial packaged boilers.\\\\n(a) Scope. This section provides test procedures, pursuant to the Energy Policy and Conservation Act (EPCA), as amended, which must be followed for measuring the combustion efficiency and/or thermal efficiency of a gas- or oil-fired commercial packaged boiler.\\\\n(b) Testing and Calculations. Determine the thermal efficiency or combustion efficiency of commercial packaged boilers by conducting the appropriate test procedure(s) indicated in Table 1 of this section.\\\\n\\\\nTable 1—Test Requirements for Commercial Packaged Boiler Equipment Classes\\\\n\\\\nEquipment category\\\\nSubcategory\\\\nCertified rated inputBtu/h\\\\n\\\\nStandards efficiency metric(§\\\\u2009431.87)\\\\n\\\\nTest procedure(corresponding to\\\\nstandards efficiency\\\\nmetric required\\\\nby §\\\\u2009431.87)\\\\n\\\\n\\\\n\\\\nHot Water\\\\nGas-fired\\\\n≥300,000 and ≤2,500,000\\\\nThermal Efficiency\\\\nAppendix A, Section 2.\\\\n\\\\n\\\\nHot Water\\\\nGas-fired\\\\n>2,500,000\\\\nCombustion Efficiency\\\\nAppendix A, Section 3.\\\\n\\\\n\\\\nHot Water\\\\nOil-fired\\\\n≥300,000 and ≤2,500,000\\\\nThermal Efficiency\\\\nAppendix A, Section 2.\\\\n\\\\n\\\\nHot Water\\\\nOil-fired\\\\n>2,500,000\\\\nCombustion Efficiency\\\\nAppendix A, Section 3.\\\\n\\\\n\\\\nSteam\\\\nGas-fired (all*)\\\\n≥300,000 and ≤2,500,000\\\\nThermal Efficiency\\\\nAppendix A, Section 2.\\\\n\\\\n\\\\nSteam\\\\nGas-fired (all*)\\\\n>2,500,000 and ≤5,000,000\\\\nThermal Efficiency\\\\nAppendix A, Section 2.\\\\n\\\\n\\\\n\\\\u2003\\\\n\\\\n>5,000,000\\\\nThermal Efficiency\\\\nAppendix A, Section 2.OR\\\\nAppendix A, Section 3 with Section 2.4.3.2.\\\\n\\\\n\\\\n\\\\nSteam\\\\nOil-fired\\\\n≥300,000 and ≤2,500,000\\\\nThermal Efficiency\\\\nAppendix A, Section 2.\\\\n\\\\n\\\\nSteam\\\\nOil-fired\\\\n>2,500,000 and ≤5,000,000\\\\nThermal Efficiency\\\\nAppendix A, Section 2.\\\\n\\\\n\\\\n\\\\u2003\\\\n\\\\n>5,000,000\\\\nThermal Efficiency\\\\nAppendix A, Section 2.OR\\\\nAppendix A, Section 3. with Section 2.4.3.2.\\\\n\\\\n\\\\n\\\\n*\\\\u2009Equipment classes for commercial packaged boilers as of July 22, 2009 (74 FR 36355) distinguish between gas-fired natural draft and all other gas-fired (except natural draft).\\\\n\\\\n(c) Field Tests. The field test provisions of appendix A may be used only to test a unit of commercial packaged boiler with rated input greater than 5,000,000 Btu/h.\\\\n[81 FR 89305, Dec. 9, 2016]\\\\n\\\\n\\\\nEnergy Efficiency Standards\\\\n\\\\n\\')]\\nLazy Load\\u200b\\nYou can use lazy loading to only load one page at a time in order to minimize memory requirements.\\npages = []for doc in loader.lazy_load():    pages.append(doc)print(pages[0].page_content[:100])print(pages[0].metadata)\\n10Energy32018-01-012018-01-01falseUniform test method for the measurement of energy efficien{\\'source\\': \\'https://www.govinfo.gov/content/pkg/CFR-2018-title10-vol3/xml/CFR-2018-title10-vol3-sec431-86.xml\\'}\\nAsync\\u200b\\npages = []async for doc in loader.alazy_load():    pages.append(doc)print(pages[0].page_content[:100])print(pages[0].metadata)\\nFetching pages: 100%|###########################################################################| 1/1 [00:00<00:00, 10.51it/s]``````output10Energy32018-01-012018-01-01falseUniform test method for the measurement of energy efficien{\\'source\\': \\'https://www.govinfo.gov/content/pkg/CFR-2018-title10-vol3/xml/CFR-2018-title10-vol3-sec431-86.xml\\'}\\nUsing proxies\\u200b\\nSometimes you might need to use proxies to get around IP blocks. You can pass in a dictionary of proxies to the loader (and requests underneath) to use them.\\nloader = WebBaseLoader(    \"https://www.walmart.com/search?q=parrots\",    proxies={        \"http\": \"http://{username}:{password}:@proxy.service.com:6666/\",        \"https\": \"https://{username}:{password}:@proxy.service.com:6666/\",    },)docs = loader.load()\\nAPI reference\\u200b\\nFor detailed documentation of all WebBaseLoader features and configurations head to the API reference: https://python.langchain.com/api_reference/community/document_loaders/langchain_community.document_loaders.web_base.WebBaseLoader.html\\nRelated\\u200b\\n\\nDocument loader conceptual guide\\nDocument loader how-to guides\\nEdit this pageWas this page helpful?PreviousWeatherNextWhatsApp ChatOverviewIntegration detailsLoader featuresSetupCredentialsInstallationInitializationInitialization with multiple pagesLoadLoad multiple urls concurrentlyLoading a xml file, or using a different BeautifulSoup parserLazy LoadAsyncUsing proxiesAPI referenceRelatedCommunityTwitterGitHubOrganizationPythonJS/TSMoreHomepageBlogYouTubeCopyright © 2025 LangChain, Inc.\\n\\n')]\n"
     ]
    }
   ],
   "source": [
    "from langchain_community.document_loaders import WebBaseLoader\n",
    "from pprint import pprint\n",
    "\n",
    "# Initialize the WebBaseLoader with the target URL\n",
    "loader = WebBaseLoader(\"https://python.langchain.com/docs/integrations/document_loaders/web_base/\")\n",
    "\n",
    "# Load the content from the webpage\n",
    "data = loader.load()\n",
    "\n",
    "# Pretty-print the loaded data\n",
    "pprint(data)"
   ]
  },
  {
   "cell_type": "code",
   "execution_count": 17,
   "id": "d6653b10",
   "metadata": {},
   "outputs": [
    {
     "data": {
      "text/plain": [
       "'\\n\\n\\n\\n\\nWebBaseLoader | 🦜️🔗 LangChain\\n\\n\\n\\n\\n\\n\\nSkip to main contentJoin us at  Interrupt: The Agent AI Conference by LangChain on May 13 & 14 in San Francisco!IntegrationsAPI ReferenceMoreContributingPeopleError referenceLangSmithLangGraphLangChain HubLangChain JS/TSv0.3v0.3v0.2v0.1💬SearchProvidersAnthropicAWSGoogleHugging FaceMicrosoftOpenAIMoreProvidersAbsoAcreomActiveloop Deep LakeADS4GPTsAerospikeAgentQLAI21 LabsAimAINetworkAirbyteAirtableAlchemyAleph AlphaAlibaba CloudAnalyticDBAnnoyAnthropicAnyscaleApache Software FoundationApache DorisApifyAppleArangoDBArceeArcGISArgillaArizeArthurArxivAscendAskNewsAssemblyAIAstra DBAtlasAwaDBAWSAZLyricsAzure AIBAAIBagelBagelDBBaichuanBaiduBananaBasetenBeamBeautiful SoupBibTeXBiliBiliBittensorBlackboardbookend.aiBoxBrave SearchBreebs (Open Knowledge)BrowserbaseBrowserlessByteDanceCassandraCerebrasCerebriumAIChaindeskChromaClarifaiClearMLClickHouseClickUpCloudflareClovaCnosDBCogneeCogniSwitchCohereCollege ConfidentialCometConfident AIConfluenceConneryContextContextual AICouchbaseCozeCrateDBC TransformersCTranslate2CubeDappierDashVectorDatabricksDatadog TracingDatadog LogsDataForSEODataheraldDedocDeepInfraDeeplakeDeepSeekDeepSparseDellDiffbotDingoDBDiscordDiscord (community loader)DocArrayDoclingDoctranDocugamiDocusaurusDriaDropboxDSPyDuckDBDuckDuckGo SearchE2BEden AIElasticsearchElevenLabsEmbedchainEpsillaEtherscanEverly AIEverNoteExaFacebook - MetaFalkorDBFaunaFiddlerFigmaFireCrawlFireworks AIFlyteFMP Data (Financial Data Prep)Forefront AIFriendli AISmabblerGeopandasGitGitBookGitHubGitLabGOATGoldenGoodfireGoogleSerper - Google Search APIGooseAIGPT4AllGradientGraph RAGGraphsignalGrobidGroqGutenbergHacker NewsHazy ResearchHeliconeHologresHTML to textHuaweiHugging FaceHyperbrowserIBMIEIT SystemsiFixitiFlytekIMSDbInfinispan VSInfinityInfinoIntelIuguJaguarJavelin AI GatewayJenkinsJina AIJohnsnowlabsJoplinKDB.AIKineticaKoboldAIKonkoKoNLPYKùzuLabel StudiolakeFSLanceDBLangChain Decorators ✨LangFair: Use-Case Level LLM Bias and Fairness AssessmentsLangfuse 🪢LanternLindormLinkupLiteLLMLlamaIndexLlama.cppLlamaEdgellamafileLLMonitorLocalAILog10MariaDBMariTalkMarqoMediaWikiDumpMeilisearchMemcachedMemgraphMetalMicrosoftMilvusMindsDBMinimaxMistralAIMLflow AI Gateway for LLMsMLflowMLXModalModelScopeModern TreasuryMomentoMongoDBMongoDB AtlasMotherduckMotörheadMyScaleNAVERNeo4jNetmindNimbleNLPCloudNomicNotion DBNucliaNVIDIAObsidianOceanBaseOracle Cloud Infrastructure (OCI)OctoAIOllamaOntotext GraphDBOpenAIOpenGradientOpenLLMOpenSearchOpenWeatherMapOracleAI Vector SearchOutlineOutlinesOxylabsPandasPaymanAIPebbloPermitPerplexityPetalsPostgres EmbeddingPGVectorPineconePipelineAIPipeshiftPortkeyPredibasePrediction GuardPremAISWI-PrologPromptLayerPsychicPubMedPullMd LoaderPygmalionAIPyMuPDF4LLMQdrantRAGatouillerank_bm25Ray ServeRebuffRedditRedisRemembrallReplicateRoamSema4 (fka Robocorp)RocksetRunhouseRunpodRWKV-4SalesforceSalute DevicesSambaNovaSAPScrapeGraph AISearchApiSearxNG Search APISemaDBSerpAPIShale ProtocolSingleStore Integrationscikit-learnSlackSnowflakespaCySparkSparkLLMSpreedlySQLiteStack ExchangeStarRocksStochasticAIStreamlitStripeSupabase (Postgres)NebulaTableauTaigaTairTavilyTelegramTencentTensorFlow DatasetsTiDBTigerGraphTigrisTiloresTogether AI2MarkdownTranswarpTrelloTrubricsTruLensTwitterTypesenseUnstructuredUpstageupstashUpTrainUSearchValtheraValyuContextVDMSVearchVectaraVectorizeVespavliteVoyageAIWeights & BiasesWeights & Biases tracingWeights & Biases trackingWeatherWeaviateWhatsAppWhyLabsWikipediaWolfram AlphaWriter, Inc.xAIXataXorbits Inference (Xinference)YahooYandexYDBYeager.aiYellowbrick01.AIYouYouTubeZepZhipu AIZillizZoteroComponentsChat modelsChat modelsAbsoAI21 LabsAlibaba Cloud PAI EASAnthropic[Deprecated] Experimental Anthropic Tools WrapperAnyscaleAzureAIChatCompletionsModelAzure OpenAIAzure ML EndpointBaichuan ChatBaidu QianfanAWS BedrockCerebrasCloudflareWorkersAICohereContextualAICoze ChatDappier AIDatabricksDeepInfraDeepSeekEden AIErnie Bot ChatEverlyAIFireworksChatFriendliGigaChatGoodfireGoogle GeminiGoogle Cloud Vertex AIGPTRouterGroqChatHuggingFaceIBM watsonx.aiJinaChatKineticaKonkoLiteLLMLlama 2 ChatLlama APILlamaEdgeLlama.cppmaritalkMiniMaxMistralAIMLXModelScopeMoonshotNaverNetmindNVIDIA AI EndpointsChatOCIModelDeploymentOCIGenAIChatOctoAIOllamaOpenAIOutlinesPerplexityPipeshiftChatPredictionGuardPremAIPromptLayer ChatOpenAIQwen QwQRekaRunPod Chat ModelSambaNovaCloudSambaStudioChatSeekrFlowSnowflake CortexsolarSparkLLM ChatNebula (Symbl.ai)Tencent HunyuanTogetherTongyi QwenUpstagevectaravLLM ChatVolc Enging MaasChat WriterxAIXinferenceYandexGPTChatYIYuan2.0ZHIPU AIRetrieversRetrieversActiveloop Deep MemoryAmazon KendraArceeArxivAskNewsAzure AI SearchBedrock (Knowledge Bases)BM25BoxBREEBS (Open Knowledge)ChaindeskChatGPT pluginCogneeCohere rerankerCohere RAGContextual AI RerankerDappierDocArrayDriaElasticSearch BM25ElasticsearchEmbedchainFlashRank rerankerFleet AI ContextGalaxiaGoogle DriveGoogle Vertex AI SearchGraph RAGIBM watsonx.aiJaguarDB Vector DatabaseKay.aiKinetica Vectorstore based RetrieverkNNLinkupSearchRetrieverLLMLingua Document CompressorLOTR (Merger Retriever)MetalMilvus Hybrid SearchNanoPQ (Product Quantization)needleNimbleOutlinePermitPinecone Hybrid SearchPubMedQdrant Sparse VectorRAGatouilleRePhraseQueryRememberizerSEC filingSelf-querying retrieversSVMTavilySearchAPITF-IDF**NeuralDB**ValyuContextVectorizeVespaWikipediaYou.comZep CloudZep Open SourceZilliz Cloud PipelineZoteroTools/ToolkitsToolsADS4GPTsAgentQLAINetwork ToolkitAlpha VantageAmadeus ToolkitApify ActorArXivAskNewsAWS LambdaAzure AI Services ToolkitAzure Cognitive Services ToolkitAzure Container Apps dynamic sessionsShell (bash)Bearly Code InterpreterBing SearchBrave SearchCassandra Database ToolkitCDPChatGPT PluginsClickUp ToolkitCogniswitch ToolkitCompass DeFi ToolkitConnery Toolkit and ToolsDall-E Image GeneratorDappierDatabricks Unity Catalog (UC)DataForSEODataheraldDuckDuckGo SearchDiscordE2B Data AnalysisEden AIElevenLabs Text2SpeechExa SearchFile SystemFinancialDatasets ToolkitFMP DataGithub ToolkitGitlab ToolkitGmail ToolkitGOATGolden QueryGoogle BooksGoogle Calendar ToolkitGoogle Cloud Text-to-SpeechGoogle DriveGoogle FinanceGoogle ImagenGoogle JobsGoogle LensGoogle PlacesGoogle ScholarGoogle SearchGoogle SerperGoogle TrendsGradioGraphQLHuggingFace Hub ToolsHuman as a toolHyperbrowser Browser Agent ToolsHyperbrowser Web Scraping ToolsIBM watsonx.aiIFTTT WebHooksInfobipIonic Shopping ToolJenkinsJina SearchJira ToolkitJSON ToolkitLemon AgentLinkupSearchToolMemgraphMemorizeMojeek SearchMultiOn ToolkitNASA ToolkitNaver SearchNuclia UnderstandingNVIDIA Riva: ASR and TTSOffice365 ToolkitOpenAPI ToolkitNatural Language API ToolkitsOpenGradientOpenWeatherMapOracle AI Vector Search: Generate SummaryOxylabsPandas DataframePassio NutritionAIPaymanAIPermitPlayWright Browser ToolkitPolygon IO Toolkit and ToolsPowerBI ToolkitPrologPubMedPython REPLReddit SearchRequests ToolkitRiza Code InterpreterRobocorp ToolkitSalesforceSceneXplainScrapeGraphSearchApiSearxNG SearchSemantic Scholar API ToolSerpAPISlack ToolkitSpark SQL ToolkitSQLDatabase ToolkitStackExchangeSteam ToolkitStripeTableauTaigaTavily ExtractTavily SearchTiloresTwilioUpstageValtheraValyuContextWikidataWikipediaWolfram AlphaWriter ToolsYahoo Finance NewsYou.com SearchYouTubeZapier Natural Language ActionsZenGuard AIDocument loadersDocument loadersacreomAgentQLLoaderAirbyteLoaderAirbyte CDK (Deprecated)Airbyte Gong (Deprecated)Airbyte Hubspot (Deprecated)Airbyte JSON (Deprecated)Airbyte Salesforce (Deprecated)Airbyte Shopify (Deprecated)Airbyte Stripe (Deprecated)Airbyte Typeform (Deprecated)Airbyte Zendesk Support (Deprecated)AirtableAlibaba Cloud MaxComputeAmazon TextractApify DatasetArcGISArxivLoaderAssemblyAI Audio TranscriptsAstraDBAsync ChromiumAsyncHtmlAthenaAWS S3 DirectoryAWS S3 FileAZLyricsAzure AI DataAzure Blob Storage ContainerAzure Blob Storage FileAzure AI Document IntelligenceBibTeXBiliBiliBlackboardBlockchainBoxBrave SearchBrowserbaseBrowserlessBSHTMLLoaderCassandraChatGPT DataCollege ConfidentialConcurrent LoaderConfluenceCoNLL-UCopy PasteCouchbaseCSVCube Semantic LayerDatadog LogsDedocDiffbotDiscordDoclingDocugamiDocusaurusDropboxDuckDBEmailEPubEtherscanEverNoteexample_dataFacebook ChatFaunaFigmaFireCrawlGeopandasGitGitBookGitHubGlue CatalogGoogle AlloyDB for PostgreSQLGoogle BigQueryGoogle BigtableGoogle Cloud SQL for SQL serverGoogle Cloud SQL for MySQLGoogle Cloud SQL for PostgreSQLGoogle Cloud Storage DirectoryGoogle Cloud Storage FileGoogle Firestore in Datastore ModeGoogle DriveGoogle El Carro for Oracle WorkloadsGoogle Firestore (Native Mode)Google Memorystore for RedisGoogle SpannerGoogle Speech-to-Text Audio TranscriptsGrobidGutenbergHacker NewsHuawei OBS DirectoryHuawei OBS FileHuggingFace datasetHyperbrowserLoaderiFixitImagesImage captionsIMSDbIuguJoplinJSONLoaderJupyter NotebookKineticalakeFSLangSmithLarkSuite (FeiShu)LLM SherpaMastodonMathPixPDFLoaderMediaWiki DumpMerge Documents LoadermhtmlMicrosoft ExcelMicrosoft OneDriveMicrosoft OneNoteMicrosoft PowerPointMicrosoft SharePointMicrosoft WordNear BlockchainModern TreasuryMongoDBNeedle Document LoaderNews URLNotion DB 2/2NucliaObsidianOpen Document Format (ODT)Open City DataOracle Autonomous DatabaseOracle AI Vector Search: Document ProcessingOrg-modePandas DataFrameparsersPDFMinerLoaderPDFPlumberPebblo Safe DocumentLoaderPolars DataFrameDell PowerScale Document LoaderPsychicPubMedPullMdLoaderPyMuPDFLoaderPyMuPDF4LLMPyPDFDirectoryLoaderPyPDFium2LoaderPyPDFLoaderPySparkQuipReadTheDocs DocumentationRecursive URLRedditRoamRocksetrspaceRSS FeedsRSTscrapflyScrapingAntSingleStoreSitemapSlackSnowflakeSource CodeSpiderSpreedlyStripeSubtitleSurrealDBTelegramTencent COS DirectoryTencent COS FileTensorFlow DatasetsTiDB2MarkdownTOMLTrelloTSVTwitterUnstructuredUnstructuredMarkdownLoaderUnstructuredPDFLoaderUpstageURLVsdxWeatherWebBaseLoaderWhatsApp ChatWikipediaUnstructuredXMLLoaderXorbits Pandas DataFrameYouTube audioYouTube transcriptsYoutubeLoaderDLYuqueZeroxPDFLoaderVector storesVector storesActiveloop Deep LakeAerospikeAlibaba Cloud OpenSearchAnalyticDBAnnoyApache DorisApertureDBAstra DB Vector StoreAtlasAwaDBAzure Cosmos DB Mongo vCoreAzure Cosmos DB No SQLAzure AI SearchBagelBagelDBBaidu Cloud ElasticSearch VectorSearchBaidu VectorDBApache CassandraChromaClarifaiClickHouseCloudflareVectorizeCouchbaseDashVectorDatabricksDingoDBDocArray HnswSearchDocArray InMemorySearchAmazon Document DBDuckDBChina Mobile ECloud ElasticSearch VectorSearchElasticsearchEpsillaFaissFaiss (Async)FalkorDBVectorStoreGoogle AlloyDB for PostgreSQLGoogle BigQuery Vector SearchGoogle Cloud SQL for MySQLGoogle Cloud SQL for PostgreSQLFirestoreGoogle Memorystore for RedisGoogle SpannerGoogle Vertex AI Feature StoreGoogle Vertex AI Vector SearchHippoHologresInfinispanJaguar Vector DatabaseKDB.AIKineticaLanceDBLanternLindormLLMRailsManticoreSearch VectorStoreMariaDBMarqoMeilisearchAmazon MemoryDBMilvusMomento Vector Index (MVI)MongoDB AtlasMyScaleNeo4j Vector IndexNucliaDBOceanbaseopenGaussOpenSearchOracle AI Vector Search: Vector StorePathwayPostgres EmbeddingPGVecto.rsPGVectorPineconePinecone (sparse)QdrantRedisRelytRocksetSAP HANA Cloud Vector EngineScaNNSemaDBSingleStorescikit-learnSQLiteVecSQLite-VSSSQLServerStarRocksSupabase (Postgres)SurrealDBTablestoreTairTencent Cloud VectorDBThirdAI NeuralDBTiDB VectorTigrisTileDBTimescale Vector (Postgres)TypesenseUpstash VectorUSearchValdVDMSVearchVectaraVespaviking DBvliteWeaviateXataYDBYellowbrickZepZep CloudZillizEmbedding modelsEmbedding modelsAI21Aleph AlphaAnyscaleascendAwaDBAzureOpenAIBaichuan Text EmbeddingsBaidu QianfanBedrockBGE on Hugging FaceBookend AIClarifaiCloudflare Workers AIClova EmbeddingsCohereDashScopeDatabricksDeepInfraEDEN AIElasticsearchEmbaasERNIEFake EmbeddingsFastEmbed by QdrantFireworksGigaChatGoogle GeminiGoogle Vertex AIGPT4AllGradientHugging FaceIBM watsonx.aiInfinityInstruct Embeddings on Hugging FaceIPEX-LLM: Local BGE Embeddings on Intel CPUIPEX-LLM: Local BGE Embeddings on Intel GPUIntel® Extension for Transformers Quantized Text EmbeddingsJinaJohn Snow LabsLASER Language-Agnostic SEntence Representations Embeddings by Meta AILindormLlama.cppllamafileLLMRailsLocalAIMiniMaxMistralAImodel2vecModelScopeMosaicMLNaverNetmindNLP CloudNomicNVIDIA NIMsOracle Cloud Infrastructure Generative AIOllamaOpenClipOpenAIOpenVINOEmbedding Documents using Optimized and Quantized EmbeddersOracle AI Vector Search: Generate EmbeddingsOVHcloudPinecone EmbeddingsPredictionGuardEmbeddingsPremAISageMakerSambaNovaCloudSambaStudioSelf HostedSentence Transformers on Hugging FaceSolarSpaCySparkLLM Text EmbeddingsTensorFlow HubText Embeddings InferenceTextEmbed - Embedding Inference ServerTitan TakeoffTogether AIUpstageVolc EngineVoyage AIXorbits inference (Xinference)YandexGPTZhipuAIOtherComponentsDocument loadersWebBaseLoaderOn this pageWebBaseLoader\\nThis covers how to use WebBaseLoader to load all text from HTML webpages into a document format that we can use downstream. For more custom logic for loading webpages look at some child class examples such as IMSDbLoader, AZLyricsLoader, and CollegeConfidentialLoader.\\nIf you don\\'t want to worry about website crawling, bypassing JS-blocking sites, and data cleaning, consider using FireCrawlLoader or the faster option SpiderLoader.\\nOverview\\u200b\\nIntegration details\\u200b\\n\\nTODO: Fill in table features.\\nTODO: Remove JS support link if not relevant, otherwise ensure link is correct.\\nTODO: Make sure API reference links are correct.\\n\\nClassPackageLocalSerializableJS supportWebBaseLoaderlangchain_community✅❌❌\\nLoader features\\u200b\\nSourceDocument Lazy LoadingNative Async SupportWebBaseLoader✅✅\\nSetup\\u200b\\nCredentials\\u200b\\nWebBaseLoader does not require any credentials.\\nInstallation\\u200b\\nTo use the WebBaseLoader you first need to install the langchain-community python package.\\n%pip install -qU langchain_community beautifulsoup4\\nInitialization\\u200b\\nNow we can instantiate our model object and load documents:\\nfrom langchain_community.document_loaders import WebBaseLoaderloader = WebBaseLoader(\"https://www.example.com/\")API Reference:WebBaseLoader\\nTo bypass SSL verification errors during fetching, you can set the \"verify\" option:\\nloader.requests_kwargs = {\\'verify\\':False}\\nInitialization with multiple pages\\u200b\\nYou can also pass in a list of pages to load from.\\nloader_multiple_pages = WebBaseLoader(    [\"https://www.example.com/\", \"https://google.com\"])\\nLoad\\u200b\\ndocs = loader.load()docs[0]\\nDocument(metadata={\\'source\\': \\'https://www.example.com/\\', \\'title\\': \\'Example Domain\\', \\'language\\': \\'No language found.\\'}, page_content=\\'\\\\n\\\\n\\\\nExample Domain\\\\n\\\\n\\\\n\\\\n\\\\n\\\\n\\\\n\\\\nExample Domain\\\\nThis domain is for use in illustrative examples in documents. You may use this\\\\n    domain in literature without prior coordination or asking for permission.\\\\nMore information...\\\\n\\\\n\\\\n\\\\n\\')\\nprint(docs[0].metadata)\\n{\\'source\\': \\'https://www.example.com/\\', \\'title\\': \\'Example Domain\\', \\'language\\': \\'No language found.\\'}\\nLoad multiple urls concurrently\\u200b\\nYou can speed up the scraping process by scraping and parsing multiple urls concurrently.\\nThere are reasonable limits to concurrent requests, defaulting to 2 per second.  If you aren\\'t concerned about being a good citizen, or you control the server you are scraping and don\\'t care about load, you can change the requests_per_second parameter to increase the max concurrent requests.  Note, while this will speed up the scraping process, but may cause the server to block you.  Be careful!\\n%pip install -qU  nest_asyncio# fixes a bug with asyncio and jupyterimport nest_asyncionest_asyncio.apply()\\nNote: you may need to restart the kernel to use updated packages.\\nloader = WebBaseLoader([\"https://www.example.com/\", \"https://google.com\"])loader.requests_per_second = 1docs = loader.aload()docs\\nFetching pages: 100%|###########################################################################| 2/2 [00:00<00:00,  8.28it/s]\\n[Document(metadata={\\'source\\': \\'https://www.example.com/\\', \\'title\\': \\'Example Domain\\', \\'language\\': \\'No language found.\\'}, page_content=\\'\\\\n\\\\n\\\\nExample Domain\\\\n\\\\n\\\\n\\\\n\\\\n\\\\n\\\\n\\\\nExample Domain\\\\nThis domain is for use in illustrative examples in documents. You may use this\\\\n    domain in literature without prior coordination or asking for permission.\\\\nMore information...\\\\n\\\\n\\\\n\\\\n\\'), Document(metadata={\\'source\\': \\'https://google.com\\', \\'title\\': \\'Google\\', \\'description\\': \"Search the world\\'s information, including webpages, images, videos and more. Google has many special features to help you find exactly what you\\'re looking for.\", \\'language\\': \\'en\\'}, page_content=\\'GoogleSearch Images Maps Play YouTube News Gmail Drive More »Web History | Settings | Sign in\\\\xa0Advanced search5 ways Gemini can help during the HolidaysAdvertisingBusiness SolutionsAbout Google© 2024 - Privacy - Terms  \\')]\\nLoading a xml file, or using a different BeautifulSoup parser\\u200b\\nYou can also look at SitemapLoader for an example of how to load a sitemap file, which is an example of using this feature.\\nloader = WebBaseLoader(    \"https://www.govinfo.gov/content/pkg/CFR-2018-title10-vol3/xml/CFR-2018-title10-vol3-sec431-86.xml\")loader.default_parser = \"xml\"docs = loader.load()docs\\n[Document(metadata={\\'source\\': \\'https://www.govinfo.gov/content/pkg/CFR-2018-title10-vol3/xml/CFR-2018-title10-vol3-sec431-86.xml\\'}, page_content=\\'\\\\n\\\\n10\\\\nEnergy\\\\n3\\\\n2018-01-01\\\\n2018-01-01\\\\nfalse\\\\nUniform test method for the measurement of energy efficiency of commercial packaged boilers.\\\\nÂ§ 431.86\\\\nSection Â§ 431.86\\\\n\\\\nEnergy\\\\nDEPARTMENT OF ENERGY\\\\nENERGY CONSERVATION\\\\nENERGY EFFICIENCY PROGRAM FOR CERTAIN COMMERCIAL AND INDUSTRIAL EQUIPMENT\\\\nCommercial Packaged Boilers\\\\nTest Procedures\\\\n\\\\n\\\\n\\\\n\\\\n§\\\\u2009431.86\\\\nUniform test method for the measurement of energy efficiency of commercial packaged boilers.\\\\n(a) Scope. This section provides test procedures, pursuant to the Energy Policy and Conservation Act (EPCA), as amended, which must be followed for measuring the combustion efficiency and/or thermal efficiency of a gas- or oil-fired commercial packaged boiler.\\\\n(b) Testing and Calculations. Determine the thermal efficiency or combustion efficiency of commercial packaged boilers by conducting the appropriate test procedure(s) indicated in Table 1 of this section.\\\\n\\\\nTable 1—Test Requirements for Commercial Packaged Boiler Equipment Classes\\\\n\\\\nEquipment category\\\\nSubcategory\\\\nCertified rated inputBtu/h\\\\n\\\\nStandards efficiency metric(§\\\\u2009431.87)\\\\n\\\\nTest procedure(corresponding to\\\\nstandards efficiency\\\\nmetric required\\\\nby §\\\\u2009431.87)\\\\n\\\\n\\\\n\\\\nHot Water\\\\nGas-fired\\\\n≥300,000 and ≤2,500,000\\\\nThermal Efficiency\\\\nAppendix A, Section 2.\\\\n\\\\n\\\\nHot Water\\\\nGas-fired\\\\n>2,500,000\\\\nCombustion Efficiency\\\\nAppendix A, Section 3.\\\\n\\\\n\\\\nHot Water\\\\nOil-fired\\\\n≥300,000 and ≤2,500,000\\\\nThermal Efficiency\\\\nAppendix A, Section 2.\\\\n\\\\n\\\\nHot Water\\\\nOil-fired\\\\n>2,500,000\\\\nCombustion Efficiency\\\\nAppendix A, Section 3.\\\\n\\\\n\\\\nSteam\\\\nGas-fired (all*)\\\\n≥300,000 and ≤2,500,000\\\\nThermal Efficiency\\\\nAppendix A, Section 2.\\\\n\\\\n\\\\nSteam\\\\nGas-fired (all*)\\\\n>2,500,000 and ≤5,000,000\\\\nThermal Efficiency\\\\nAppendix A, Section 2.\\\\n\\\\n\\\\n\\\\u2003\\\\n\\\\n>5,000,000\\\\nThermal Efficiency\\\\nAppendix A, Section 2.OR\\\\nAppendix A, Section 3 with Section 2.4.3.2.\\\\n\\\\n\\\\n\\\\nSteam\\\\nOil-fired\\\\n≥300,000 and ≤2,500,000\\\\nThermal Efficiency\\\\nAppendix A, Section 2.\\\\n\\\\n\\\\nSteam\\\\nOil-fired\\\\n>2,500,000 and ≤5,000,000\\\\nThermal Efficiency\\\\nAppendix A, Section 2.\\\\n\\\\n\\\\n\\\\u2003\\\\n\\\\n>5,000,000\\\\nThermal Efficiency\\\\nAppendix A, Section 2.OR\\\\nAppendix A, Section 3. with Section 2.4.3.2.\\\\n\\\\n\\\\n\\\\n*\\\\u2009Equipment classes for commercial packaged boilers as of July 22, 2009 (74 FR 36355) distinguish between gas-fired natural draft and all other gas-fired (except natural draft).\\\\n\\\\n(c) Field Tests. The field test provisions of appendix A may be used only to test a unit of commercial packaged boiler with rated input greater than 5,000,000 Btu/h.\\\\n[81 FR 89305, Dec. 9, 2016]\\\\n\\\\n\\\\nEnergy Efficiency Standards\\\\n\\\\n\\')]\\nLazy Load\\u200b\\nYou can use lazy loading to only load one page at a time in order to minimize memory requirements.\\npages = []for doc in loader.lazy_load():    pages.append(doc)print(pages[0].page_content[:100])print(pages[0].metadata)\\n10Energy32018-01-012018-01-01falseUniform test method for the measurement of energy efficien{\\'source\\': \\'https://www.govinfo.gov/content/pkg/CFR-2018-title10-vol3/xml/CFR-2018-title10-vol3-sec431-86.xml\\'}\\nAsync\\u200b\\npages = []async for doc in loader.alazy_load():    pages.append(doc)print(pages[0].page_content[:100])print(pages[0].metadata)\\nFetching pages: 100%|###########################################################################| 1/1 [00:00<00:00, 10.51it/s]``````output10Energy32018-01-012018-01-01falseUniform test method for the measurement of energy efficien{\\'source\\': \\'https://www.govinfo.gov/content/pkg/CFR-2018-title10-vol3/xml/CFR-2018-title10-vol3-sec431-86.xml\\'}\\nUsing proxies\\u200b\\nSometimes you might need to use proxies to get around IP blocks. You can pass in a dictionary of proxies to the loader (and requests underneath) to use them.\\nloader = WebBaseLoader(    \"https://www.walmart.com/search?q=parrots\",    proxies={        \"http\": \"http://{username}:{password}:@proxy.service.com:6666/\",        \"https\": \"https://{username}:{password}:@proxy.service.com:6666/\",    },)docs = loader.load()\\nAPI reference\\u200b\\nFor detailed documentation of all WebBaseLoader features and configurations head to the API reference: https://python.langchain.com/api_reference/community/document_loaders/langchain_community.document_loaders.web_base.WebBaseLoader.html\\nRelated\\u200b\\n\\nDocument loader conceptual guide\\nDocument loader how-to guides\\nEdit this pageWas this page helpful?PreviousWeatherNextWhatsApp ChatOverviewIntegration detailsLoader featuresSetupCredentialsInstallationInitializationInitialization with multiple pagesLoadLoad multiple urls concurrentlyLoading a xml file, or using a different BeautifulSoup parserLazy LoadAsyncUsing proxiesAPI referenceRelatedCommunityTwitterGitHubOrganizationPythonJS/TSMoreHomepageBlogYouTubeCopyright © 2025 LangChain, Inc.\\n\\n'"
      ]
     },
     "execution_count": 17,
     "metadata": {},
     "output_type": "execute_result"
    }
   ],
   "source": [
    "data[0].page_content"
   ]
  },
  {
   "cell_type": "code",
   "execution_count": null,
   "id": "e565647d",
   "metadata": {},
   "outputs": [],
   "source": []
  }
 ],
 "metadata": {
  "kernelspec": {
   "display_name": "LLMS",
   "language": "python",
   "name": "python3"
  },
  "language_info": {
   "codemirror_mode": {
    "name": "ipython",
    "version": 3
   },
   "file_extension": ".py",
   "mimetype": "text/x-python",
   "name": "python",
   "nbconvert_exporter": "python",
   "pygments_lexer": "ipython3",
   "version": "3.13.2"
  }
 },
 "nbformat": 4,
 "nbformat_minor": 5
}
