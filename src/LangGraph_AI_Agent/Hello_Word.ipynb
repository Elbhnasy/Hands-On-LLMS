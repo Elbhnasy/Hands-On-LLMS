{
 "cells": [
  {
   "cell_type": "markdown",
   "id": "7d78be89",
   "metadata": {},
   "source": [
    "## Graph I\n",
    "Our first LangGraph graph!"
   ]
  },
  {
   "cell_type": "code",
   "execution_count": null,
   "id": "fc6c1048",
   "metadata": {},
   "outputs": [],
   "source": [
    "from typing import Dict, TypedDict\n",
    "from langgraph.graph import StateGraph "
   ]
  }
 ],
 "metadata": {
  "language_info": {
   "name": "python"
  }
 },
 "nbformat": 4,
 "nbformat_minor": 5
}
