{
 "cells": [
  {
   "cell_type": "markdown",
   "id": "7d78be89",
   "metadata": {},
   "source": [
    "## Graph I\n",
    "Our first LangGraph graph!"
   ]
  },
  {
   "cell_type": "code",
   "execution_count": 1,
   "id": "fc6c1048",
   "metadata": {},
   "outputs": [],
   "source": [
    "from typing import Dict, TypedDict\n",
    "from langgraph.graph import StateGraph \n",
    "\n",
    "class AgentState(TypedDict):\n",
    "    message: str\n",
    "\n",
    "def greeting(state: AgentState) -> AgentState:\n",
    "    \"\"\" A simple greeting function that sets the initial message in the state.\"\"\"\n",
    "    state['message']= \"Hey \" + state['message'] + \", how are you?\"\n",
    "    return state\n",
    "\n",
    "graph = StateGraph(AgentState)\n",
    "graph.add_node(\n",
    "    \"greeting\",\n",
    "    greeting,\n",
    ")\n",
    "graph.set_entry_point(\"greeting\")\n",
    "graph.set_finish_point(\"greeting\")\n",
    "app = graph.compile()"
   ]
  },
  {
   "cell_type": "code",
   "execution_count": 2,
   "id": "1dc35c36",
   "metadata": {},
   "outputs": [
    {
     "data": {
      "image/png": "[encoded data removed]",
      "text/plain": [
       "<IPython.core.display.Image object>"
      ]
     },
     "metadata": {},
     "output_type": "display_data"
    }
   ],
   "source": [
    "from IPython.display import Image, display\n",
    "display(Image(app.get_graph().draw_mermaid_png()))"
   ]
  },
  {
   "cell_type": "code",
   "execution_count": 8,
   "id": "9d0bf550",
   "metadata": {},
   "outputs": [
    {
     "name": "stdout",
     "output_type": "stream",
     "text": [
      "Hey Bob, how are you?\n"
     ]
    }
   ],
   "source": [
    "result = app.invoke({\n",
    "    \"message\": \"Bob\"\n",
    "})\n",
    "result = result[\"message\"]\n",
    "print(result)"
   ]
  },
  {
   "cell_type": "markdown",
   "id": "883a3235",
   "metadata": {},
   "source": [
    "## Exercise"
   ]
  },
  {
   "cell_type": "code",
   "execution_count": 10,
   "id": "5a56011d",
   "metadata": {},
   "outputs": [
    {
     "name": "stdout",
     "output_type": "stream",
     "text": [
      "Hey Bob, you're doing an amazing job learning LangGraph!\n"
     ]
    }
   ],
   "source": [
    "from typing import Dict,TypedDict\n",
    "from langgraph.graph import StateGraph\n",
    "\n",
    "class AgentState(TypedDict):\n",
    "    name: str\n",
    "\n",
    "def complete_greeting(state: AgentState) -> AgentState:\n",
    "    \"\"\" A simple greeting function that sets the initial name in the state.\"\"\"\n",
    "    state['name'] = \"Hey \" + state['name'] + \", you're doing an amazing job learning LangGraph!\"\n",
    "    return state\n",
    "\n",
    "graph = StateGraph(AgentState)\n",
    "graph.add_node(\n",
    "    \"complete_greeting\",\n",
    "    complete_greeting,\n",
    ")\n",
    "graph.set_entry_point(\"complete_greeting\")\n",
    "graph.set_finish_point(\"complete_greeting\")\n",
    "\n",
    "app = graph.compile()\n",
    "\n",
    "result = app.invoke({\n",
    "    \"name\": \"Bob\"\n",
    "})\n",
    "result = result[\"name\"]\n",
    "print(result)"
   ]
  },
  {
   "cell_type": "code",
   "execution_count": 11,
   "id": "b2035764",
   "metadata": {},
   "outputs": [
    {
     "data": {
      "image/png": "[encoded data removed]",
      "text/plain": [
       "<IPython.core.display.Image object>"
      ]
     },
     "metadata": {},
     "output_type": "display_data"
    }
   ],
   "source": [
    "display(Image(app.get_graph().draw_mermaid_png()))"
   ]
  },
  {
   "cell_type": "code",
   "execution_count": null,
   "id": "8227d0f5",
   "metadata": {},
   "outputs": [],
   "source": []
  }
 ],
 "metadata": {
  "kernelspec": {
   "display_name": "LLMS",
   "language": "python",
   "name": "python3"
  },
  "language_info": {
   "codemirror_mode": {
    "name": "ipython",
    "version": 3
   },
   "file_extension": ".py",
   "mimetype": "text/x-python",
   "name": "python",
   "nbconvert_exporter": "python",
   "pygments_lexer": "ipython3",
   "version": "3.13.2"
  }
 },
 "nbformat": 4,
 "nbformat_minor": 5
}
