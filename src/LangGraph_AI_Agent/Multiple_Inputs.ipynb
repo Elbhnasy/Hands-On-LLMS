{
 "cells": [
  {
   "cell_type": "markdown",
   "id": "6366dc05",
   "metadata": {},
   "source": [
    "## Graph II\n"
   ]
  },
  {
   "cell_type": "code",
   "execution_count": 4,
   "id": "dd0a98cd",
   "metadata": {},
   "outputs": [],
   "source": [
    "from typing import TypedDict, List\n",
    "from langgraph.graph import StateGraph \n",
    "\n",
    "class AgentState(TypedDict):\n",
    "    values: List[int]\n",
    "    name: str \n",
    "    result: str "
   ]
  },
  {
   "cell_type": "code",
   "execution_count": null,
   "id": "3d1e8b39",
   "metadata": {},
   "outputs": [],
   "source": []
  }
 ],
 "metadata": {
  "kernelspec": {
   "display_name": "LLMS",
   "language": "python",
   "name": "python3"
  },
  "language_info": {
   "codemirror_mode": {
    "name": "ipython",
    "version": 3
   },
   "file_extension": ".py",
   "mimetype": "text/x-python",
   "name": "python",
   "nbconvert_exporter": "python",
   "pygments_lexer": "ipython3",
   "version": "3.13.2"
  }
 },
 "nbformat": 4,
 "nbformat_minor": 5
}
