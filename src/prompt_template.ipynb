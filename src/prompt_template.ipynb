{
 "cells": [
  {
   "cell_type": "markdown",
   "id": "914f999f",
   "metadata": {},
   "source": [
    "## Ollama \n",
    "* genration and chat completion\n",
    "    * [Ollama  completion refrence](https://github.com/ollama/ollama/blob/main/docs/api.md#generate-a-chat-completion)."
   ]
  },
  {
   "cell_type": "code",
   "execution_count": 6,
   "id": "8ccc4f41",
   "metadata": {},
   "outputs": [
    {
     "data": {
      "text/plain": [
       "{'model': 'llama3.2:latest',\n",
       " 'created_at': '2025-05-02T15:11:08.327216473Z',\n",
       " 'response': 'Here is a summary of the tone, intent, and structure of the given text:\\n\\n• **Tone:** The tone of this sentence is informal, friendly, and welcoming. It sets a casual and approachable tone.\\n• **Intent:** The intent of this sentence is to initiate a conversation or establish a connection with the person being addressed. It\\'s a greeting that invites the other person to respond.\\n• **Structure:** The structure of this sentence is simple and straightforward. It consists of a single sentence with a short question (\"how are you?\") followed by a polite expression of inquiry.',\n",
       " 'done': True,\n",
       " 'done_reason': 'stop',\n",
       " 'context': [128006,\n",
       "  9125,\n",
       "  128007,\n",
       "  271,\n",
       "  38766,\n",
       "  1303,\n",
       "  33025,\n",
       "  2696,\n",
       "  25,\n",
       "  6790,\n",
       "  220,\n",
       "  2366,\n",
       "  18,\n",
       "  271,\n",
       "  128009,\n",
       "  128006,\n",
       "  882,\n",
       "  128007,\n",
       "  271,\n",
       "  9370,\n",
       "  5730,\n",
       "  553,\n",
       "  279,\n",
       "  16630,\n",
       "  11,\n",
       "  7537,\n",
       "  11,\n",
       "  323,\n",
       "  6070,\n",
       "  315,\n",
       "  279,\n",
       "  2768,\n",
       "  1495,\n",
       "  304,\n",
       "  220,\n",
       "  18,\n",
       "  17889,\n",
       "  3585,\n",
       "  25,\n",
       "  22691,\n",
       "  11,\n",
       "  1268,\n",
       "  527,\n",
       "  499,\n",
       "  30,\n",
       "  128009,\n",
       "  128006,\n",
       "  78191,\n",
       "  128007,\n",
       "  271,\n",
       "  8586,\n",
       "  374,\n",
       "  264,\n",
       "  12399,\n",
       "  315,\n",
       "  279,\n",
       "  16630,\n",
       "  11,\n",
       "  7537,\n",
       "  11,\n",
       "  323,\n",
       "  6070,\n",
       "  315,\n",
       "  279,\n",
       "  2728,\n",
       "  1495,\n",
       "  1473,\n",
       "  6806,\n",
       "  3146,\n",
       "  51,\n",
       "  606,\n",
       "  68063,\n",
       "  578,\n",
       "  16630,\n",
       "  315,\n",
       "  420,\n",
       "  11914,\n",
       "  374,\n",
       "  42887,\n",
       "  11,\n",
       "  11919,\n",
       "  11,\n",
       "  323,\n",
       "  36387,\n",
       "  13,\n",
       "  1102,\n",
       "  7437,\n",
       "  264,\n",
       "  16736,\n",
       "  323,\n",
       "  5603,\n",
       "  481,\n",
       "  16630,\n",
       "  627,\n",
       "  6806,\n",
       "  3146,\n",
       "  11797,\n",
       "  68063,\n",
       "  578,\n",
       "  7537,\n",
       "  315,\n",
       "  420,\n",
       "  11914,\n",
       "  374,\n",
       "  311,\n",
       "  39201,\n",
       "  264,\n",
       "  10652,\n",
       "  477,\n",
       "  5813,\n",
       "  264,\n",
       "  3717,\n",
       "  449,\n",
       "  279,\n",
       "  1732,\n",
       "  1694,\n",
       "  20669,\n",
       "  13,\n",
       "  1102,\n",
       "  596,\n",
       "  264,\n",
       "  43213,\n",
       "  430,\n",
       "  45510,\n",
       "  279,\n",
       "  1023,\n",
       "  1732,\n",
       "  311,\n",
       "  6013,\n",
       "  627,\n",
       "  6806,\n",
       "  3146,\n",
       "  23807,\n",
       "  68063,\n",
       "  578,\n",
       "  6070,\n",
       "  315,\n",
       "  420,\n",
       "  11914,\n",
       "  374,\n",
       "  4382,\n",
       "  323,\n",
       "  31439,\n",
       "  13,\n",
       "  1102,\n",
       "  17610,\n",
       "  315,\n",
       "  264,\n",
       "  3254,\n",
       "  11914,\n",
       "  449,\n",
       "  264,\n",
       "  2875,\n",
       "  3488,\n",
       "  3573,\n",
       "  5269,\n",
       "  527,\n",
       "  499,\n",
       "  30,\n",
       "  909,\n",
       "  8272,\n",
       "  555,\n",
       "  264,\n",
       "  48887,\n",
       "  7645,\n",
       "  315,\n",
       "  26981,\n",
       "  13],\n",
       " 'total_duration': 9291045512,\n",
       " 'load_duration': 2145891878,\n",
       " 'prompt_eval_count': 51,\n",
       " 'prompt_eval_duration': 223536567,\n",
       " 'eval_count': 119,\n",
       " 'eval_duration': 6920461450}"
      ]
     },
     "execution_count": 6,
     "metadata": {},
     "output_type": "execute_result"
    }
   ],
   "source": [
    "import requests\n",
    "import json\n",
    "\n",
    "# Define the API URL for the Ollama generation endpoint\n",
    "generation_api_url = \"http://localhost:11434/api/generate\"\n",
    "\n",
    "# Specify the model to be used for text generation\n",
    "model = \"llama3.2:latest\"\n",
    "\n",
    "# Define the input text to be summarized\n",
    "text = \"Hello, how are you?\"\n",
    "\n",
    "# Send a POST request to the Ollama API with the required parameters\n",
    "response = requests.post(\n",
    "    generation_api_url,\n",
    "    json={\n",
    "        \"model\": model,  # Specify the model to use\n",
    "        \"prompt\": f\"Summarize the tone, intent, and structure of the following text in 3 bullet points: {text}\",  # Define the task prompt\n",
    "        \"stream\": False,  \n",
    "        \"options\": {  \n",
    "            \"temperature\": 0.7,  \n",
    "            \"top_p\": 0.9,  \n",
    "            \"top_k\": 50,  \n",
    "            \"repetition_penalty\": 1.2  # Penalize repetition in the output\n",
    "        }\n",
    "    }\n",
    ")\n",
    "response.json()"
   ]
  },
  {
   "cell_type": "code",
   "execution_count": 8,
   "id": "a0fa156b",
   "metadata": {},
   "outputs": [
    {
     "data": {
      "text/plain": [
       "'Here is a summary of the tone, intent, and structure of the given text:\\n\\n• **Tone:** The tone of this sentence is informal, friendly, and welcoming. It sets a casual and approachable tone.\\n• **Intent:** The intent of this sentence is to initiate a conversation or establish a connection with the person being addressed. It\\'s a greeting that invites the other person to respond.\\n• **Structure:** The structure of this sentence is simple and straightforward. It consists of a single sentence with a short question (\"how are you?\") followed by a polite expression of inquiry.'"
      ]
     },
     "execution_count": 8,
     "metadata": {},
     "output_type": "execute_result"
    }
   ],
   "source": [
    "response.json()['response']"
   ]
  },
  {
   "cell_type": "code",
   "execution_count": 9,
   "id": "ae0ceba7",
   "metadata": {},
   "outputs": [
    {
     "name": "stdout",
     "output_type": "stream",
     "text": [
      "('Here is a summary of the tone, intent, and structure of the given text:\\n'\n",
      " '\\n'\n",
      " '• **Tone:** The tone of this sentence is informal, friendly, and welcoming. '\n",
      " 'It sets a casual and approachable tone.\\n'\n",
      " '• **Intent:** The intent of this sentence is to initiate a conversation or '\n",
      " \"establish a connection with the person being addressed. It's a greeting that \"\n",
      " 'invites the other person to respond.\\n'\n",
      " '• **Structure:** The structure of this sentence is simple and '\n",
      " 'straightforward. It consists of a single sentence with a short question '\n",
      " '(\"how are you?\") followed by a polite expression of inquiry.')\n"
     ]
    }
   ],
   "source": [
    "from pprint import pprint as pprint\n",
    "pprint(response.json()['response'])"
   ]
  },
  {
   "cell_type": "markdown",
   "id": "5fa0e7a3",
   "metadata": {},
   "source": [
    "##### chat completion"
   ]
  },
  {
   "cell_type": "code",
   "execution_count": 13,
   "id": "14ca5f39",
   "metadata": {},
   "outputs": [
    {
     "data": {
      "text/plain": [
       "{'model': 'llama3.2:latest',\n",
       " 'created_at': '2025-05-02T15:29:00.117193313Z',\n",
       " 'message': {'role': 'assistant',\n",
       "  'content': 'Egypt is a country rich in history, culture, and natural beauty. Here are some of the most beautiful things in Egypt:\\n\\n1. **Pyramids of Giza**: No list of Egyptian wonders would be complete without these iconic pyramids, one of the Seven Wonders of the Ancient World.\\n2. **Nile River**: The lifeblood of ancient Egypt, the Nile is a stunning river that winds its way through the heart of the country, offering breathtaking views and opportunities for boat rides and fel'},\n",
       " 'done_reason': 'length',\n",
       " 'done': True,\n",
       " 'total_duration': 5736191793,\n",
       " 'load_duration': 23456757,\n",
       " 'prompt_eval_count': 36,\n",
       " 'prompt_eval_duration': 14679662,\n",
       " 'eval_count': 100,\n",
       " 'eval_duration': 5697555450}"
      ]
     },
     "execution_count": 13,
     "metadata": {},
     "output_type": "execute_result"
    }
   ],
   "source": [
    "import json\n",
    "import requests\n",
    "\n",
    "# Define the API URL for the Ollama chat endpoint\n",
    "chat_api_url = \"http://localhost:11434/api/chat\"\n",
    "\n",
    "# Specify the model to be used for chat\n",
    "model = \"llama3.2:latest\"\n",
    "\n",
    "# Define the input text for the chat\n",
    "text = \"Hello! what are the beautiful things in egypt?\"\n",
    "\n",
    "# Send a POST request to the Ollama API with the required parameters    \n",
    "response = requests.post(\n",
    "    chat_api_url,\n",
    "    json={\n",
    "        \"model\": model,  \n",
    "        \"messages\": [\n",
    "            {\"role\": \"user\",\n",
    "            \"content\": text}  \n",
    "        ],\n",
    "        \"stream\": False,  \n",
    "        \"options\": {  \n",
    "            \"temperature\": 0.7,  \n",
    "            \"top_p\": 0.9,  \n",
    "            \"top_k\": 50,\n",
    "            \"seed\" : 101,  \n",
    "            \"repetition_penalty\": 1.2,\n",
    "            \"num_predict\": 100,\n",
    "        }\n",
    "    }\n",
    ")\n",
    "response.json()"
   ]
  },
  {
   "cell_type": "code",
   "execution_count": 14,
   "id": "73678e49",
   "metadata": {},
   "outputs": [
    {
     "name": "stdout",
     "output_type": "stream",
     "text": [
      "('Egypt is a country rich in history, culture, and natural beauty. Here are '\n",
      " 'some of the most beautiful things in Egypt:\\n'\n",
      " '\\n'\n",
      " '1. **Pyramids of Giza**: No list of Egyptian wonders would be complete '\n",
      " 'without these iconic pyramids, one of the Seven Wonders of the Ancient '\n",
      " 'World.\\n'\n",
      " '2. **Nile River**: The lifeblood of ancient Egypt, the Nile is a stunning '\n",
      " 'river that winds its way through the heart of the country, offering '\n",
      " 'breathtaking views and opportunities for boat rides and fel')\n"
     ]
    }
   ],
   "source": [
    "from pprint import pprint as pprint\n",
    "\n",
    "pprint(response.json()['message']['content'])"
   ]
  },
  {
   "cell_type": "code",
   "execution_count": 21,
   "id": "fff970de",
   "metadata": {},
   "outputs": [
    {
     "name": "stdout",
     "output_type": "stream",
     "text": [
      "The Nile River is an iconic and fascinating part of Egyptian culture and history. Here are some interesting facts about the Nile:\n",
      "\n",
      "1. **Longest River in Africa**: The Nile is approximately 6,695 kilometers (4,160 miles) long, stretching from its sources in Burundi and Rwanda to its delta on the Mediterranean Sea.\n",
      "2. **Lifeblood of Egypt**: The Nile has been the primary source of water, transportation, and food for millions of people in Egypt for thousands of years.\n",
      "\n"
     ]
    }
   ],
   "source": [
    "response = requests.post(\n",
    "    chat_api_url,\n",
    "    json={\n",
    "        \"model\": model,\n",
    "        \"messages\": [\n",
    "            {\"role\": \"user\", \"content\": \"Hello! what are the beautiful things in egypt?\"},\n",
    "            {\"role\": \"assistant\", \"content\": \"Egypt is home to the Pyramids of Giza, the Nile River, and Luxor’s temples.\"},\n",
    "            {\"role\": \"user\", \"content\": \"Tell me more about the Nile!\"}\n",
    "        ],\n",
    "        \"stream\": False,\n",
    "        \"options\": {\n",
    "            \"temperature\": 0.7,\n",
    "            \"top_p\": 0.9,\n",
    "            \"top_k\": 50,\n",
    "            \"seed\": 101,\n",
    "            \"repetition_penalty\": 1.2,\n",
    "            \"num_predict\": 100,\n",
    "            \"num_ctx\": 4096  # Allows more context for conversation history\n",
    "        }\n",
    "    }\n",
    ")\n",
    "print(response.json()['message']['content'])"
   ]
  },
  {
   "cell_type": "code",
   "execution_count": 20,
   "id": "500aee39",
   "metadata": {},
   "outputs": [
    {
     "data": {
      "text/plain": [
       "{'model': 'llama3.2:latest',\n",
       " 'created_at': '2025-05-02T16:50:17.958797887Z',\n",
       " 'message': {'role': 'assistant',\n",
       "  'content': 'The Nile River is an iconic and fascinating part of Egyptian culture and history. Here are some interesting facts about the Nile:\\n\\n1. **Longest River in Africa**: The Nile is approximately 6,695 kilometers (4,160 miles) long, stretching from its sources in Burundi and Rwanda to its delta on the Mediterranean Sea.\\n2. **Lifeblood of Egypt**: The Nile has been the primary source of water, transportation, and food for millions of people in Egypt for thousands of years.\\n'},\n",
       " 'done_reason': 'length',\n",
       " 'done': True,\n",
       " 'total_duration': 8315765639,\n",
       " 'load_duration': 2120388996,\n",
       " 'prompt_eval_count': 74,\n",
       " 'prompt_eval_duration': 362473346,\n",
       " 'eval_count': 100,\n",
       " 'eval_duration': 5831249827}"
      ]
     },
     "execution_count": 20,
     "metadata": {},
     "output_type": "execute_result"
    }
   ],
   "source": [
    "response.json()"
   ]
  },
  {
   "cell_type": "code",
   "execution_count": null,
   "id": "10556e58",
   "metadata": {},
   "outputs": [],
   "source": [
    "import base64\n",
    "from PIL import Image\n",
    "import io\n",
    "\n",
    "def encode_image_to_base64(image_path:str):\n",
    "    with open(image_path, 'rb') as image_file:\n",
    "        return base64.b64encode(image_file.read()).decode('utf-8')\n",
    "    \n",
    "def send_image_to_ollama(image_path:str):\n",
    "    image_base64 = encode_image_to_base64(image_path)\n",
    "    response = requests.post(\n",
    "        chat_api_url,\n",
    "        json={\n",
    "            \"model\": model,\n",
    "            \"messages\": [\n",
    "                {\n",
    "                    \"role\": \"user\", \n",
    "                    \"content\": \"what is in this image?\",\n",
    "                    \"images\": [image_base64]\n",
    "                }\n",
    "            ],\n",
    "            \"stream\": False,\n",
    "            \"options\": {\n",
    "                \"temperature\": 0.7,\n",
    "                \"top_p\": 0.9,\n",
    "                \"top_k\": 50,\n",
    "                \"seed\": 101,\n",
    "                \"repetition_penalty\": 1.2,\n",
    "                \"num_predict\": 100\n",
    "            }\n",
    "        }\n",
    "    )\n",
    "    return response.json()\n",
    "\n",
    "# Example usage\n",
    "image_path = \"path_to_your_image.jpg\"  # Replace with your image path\n",
    "response = send_image_to_ollama(image_path)\n",
    "print(response['message']['content'])"
   ]
  },
  {
   "cell_type": "markdown",
   "id": "69c22015",
   "metadata": {},
   "source": [
    "### [OpenAI](https://github.com/ollama/ollama/blob/main/docs/openai.md)"
   ]
  },
  {
   "cell_type": "code",
   "execution_count": 29,
   "id": "9b8f4e61",
   "metadata": {},
   "outputs": [],
   "source": [
    "from openai import OpenAI\n",
    "\n",
    "# Initialize the OpenAI API client\n",
    "client =  OpenAI(\n",
    "    base_url=\"http://localhost:11434/v1/\",\n",
    "    api_key=\"ollama\", \n",
    "    )\n",
    "\n",
    "chat_completion = client.chat.completions.create(\n",
    "    model=\"llama3.2:latest\",\n",
    "    messages=[\n",
    "        {\"role\": \"user\",\n",
    "        \"content\": \"tell me about Artificial Intelligence\"},\n",
    "    ]\n",
    ")"
   ]
  },
  {
   "cell_type": "code",
   "execution_count": 30,
   "id": "e06368ee",
   "metadata": {},
   "outputs": [
    {
     "name": "stdout",
     "output_type": "stream",
     "text": [
      "<class 'openai.types.chat.chat_completion.ChatCompletion'>\n"
     ]
    },
    {
     "data": {
      "text/plain": [
       "ChatCompletion(id='chatcmpl-689', choices=[Choice(finish_reason='stop', index=0, logprobs=None, message=ChatCompletionMessage(content=\"Artificial Intelligence (AI) refers to the simulation of human intelligence in machines that are programmed to think like humans and mimic their actions. The term may also be applied to any machine that exhibits traits associated with a human mind such as learning and problem-solving.\\n\\nThere are several types of AI:\\n\\n1. **Narrow or Weak AI**: This type of AI is designed to perform a specific task, such as facial recognition, sentiment analysis, or decision-making. Narrow AI has achieved state-of-the-art performance in its area of focus but does not possess general intelligence.\\n\\n2. **General or Strong AI**: General AI refers to intelligent machines that can understand any problem and apply it to the broader picture. Despite many efforts in this field, no algorithm can yet outperform humans across all tasks.\\n\\n3. **Superintelligence**: A hypothetical AI system capable of surpassing human intelligence in its capabilities, leading to concerns about job displacement, existential risk, or other unpredictable outcomes.\\n\\nKey techniques used for building AI include:\\n\\n1. **Machine Learning (ML)**: This field involves developing algorithms and statistical models that enable software application to become more accurate at forecasting outcomes without being explicit about the rules.\\n\\n2. **Deep Learning**: A subset of ML focused on neural networks with multiple layers, allowing them to learn complex patterns in data.\\n\\n3. **Natural Language Processing (NLP)**: NLP enables machines to comprehend and generate human language both safely and understandably.\\n\\n4. **Computer Vision**: The branch of artificial intelligence that focuses on video data, like pictures and movies.\\n\\n5. **Robotics**: The integration of computer systems with physical robots, enabling the robot to navigate its environment.\\n\\nAI is widely applied in various sectors:\\n\\n1. **Healthcare**: AI aids medical diagnosis, drug-discovery, personalized medicine, predictive analysis for patients' outcomes, population health assessment and more.\\n\\n2. **Logistics and Supply Chain Management**: AI has been used with huge success in supply chain optimization techniques for better delivery systems and logistics operations.\\n\\n3. **Customer Service and Sales**: Human interaction that can be replaced or automated through chatbots allows them to respond faster to customer inquiries, reducing the time it takes to offer a human response on any potential issue.\\n\\n4. **Education**: AI could facilitate education by automating grading, using adaptive learning platforms personalized for its students.\\n\\nHowever, while many areas of healthcare and business have found significant benefits to AI, in technology there is also a darker side - including biased decision-making models which can sometimes lead into severe outcomes.\", refusal=None, role='assistant', annotations=None, audio=None, function_call=None, tool_calls=None))], created=1746213947, model='llama3.2:latest', object='chat.completion', service_tier=None, system_fingerprint='fp_ollama', usage=CompletionUsage(completion_tokens=507, prompt_tokens=30, total_tokens=537, completion_tokens_details=None, prompt_tokens_details=None))"
      ]
     },
     "execution_count": 30,
     "metadata": {},
     "output_type": "execute_result"
    }
   ],
   "source": [
    "print(type(chat_completion))\n",
    "chat_completion"
   ]
  },
  {
   "cell_type": "code",
   "execution_count": 31,
   "id": "7051ab3a",
   "metadata": {},
   "outputs": [
    {
     "data": {
      "text/plain": [
       "\"Artificial Intelligence (AI) refers to the simulation of human intelligence in machines that are programmed to think like humans and mimic their actions. The term may also be applied to any machine that exhibits traits associated with a human mind such as learning and problem-solving.\\n\\nThere are several types of AI:\\n\\n1. **Narrow or Weak AI**: This type of AI is designed to perform a specific task, such as facial recognition, sentiment analysis, or decision-making. Narrow AI has achieved state-of-the-art performance in its area of focus but does not possess general intelligence.\\n\\n2. **General or Strong AI**: General AI refers to intelligent machines that can understand any problem and apply it to the broader picture. Despite many efforts in this field, no algorithm can yet outperform humans across all tasks.\\n\\n3. **Superintelligence**: A hypothetical AI system capable of surpassing human intelligence in its capabilities, leading to concerns about job displacement, existential risk, or other unpredictable outcomes.\\n\\nKey techniques used for building AI include:\\n\\n1. **Machine Learning (ML)**: This field involves developing algorithms and statistical models that enable software application to become more accurate at forecasting outcomes without being explicit about the rules.\\n\\n2. **Deep Learning**: A subset of ML focused on neural networks with multiple layers, allowing them to learn complex patterns in data.\\n\\n3. **Natural Language Processing (NLP)**: NLP enables machines to comprehend and generate human language both safely and understandably.\\n\\n4. **Computer Vision**: The branch of artificial intelligence that focuses on video data, like pictures and movies.\\n\\n5. **Robotics**: The integration of computer systems with physical robots, enabling the robot to navigate its environment.\\n\\nAI is widely applied in various sectors:\\n\\n1. **Healthcare**: AI aids medical diagnosis, drug-discovery, personalized medicine, predictive analysis for patients' outcomes, population health assessment and more.\\n\\n2. **Logistics and Supply Chain Management**: AI has been used with huge success in supply chain optimization techniques for better delivery systems and logistics operations.\\n\\n3. **Customer Service and Sales**: Human interaction that can be replaced or automated through chatbots allows them to respond faster to customer inquiries, reducing the time it takes to offer a human response on any potential issue.\\n\\n4. **Education**: AI could facilitate education by automating grading, using adaptive learning platforms personalized for its students.\\n\\nHowever, while many areas of healthcare and business have found significant benefits to AI, in technology there is also a darker side - including biased decision-making models which can sometimes lead into severe outcomes.\""
      ]
     },
     "execution_count": 31,
     "metadata": {},
     "output_type": "execute_result"
    }
   ],
   "source": [
    "chat_completion.choices[0].message.content"
   ]
  },
  {
   "cell_type": "code",
   "execution_count": null,
   "id": "50c0ef77",
   "metadata": {},
   "outputs": [],
   "source": []
  },
  {
   "cell_type": "code",
   "execution_count": null,
   "id": "c1d934b6",
   "metadata": {},
   "outputs": [],
   "source": [
    "from helpers import get_settings\n",
    "from openai import OpenAI\n",
    "import os \n",
    "\n",
    "setting = get_settings()\n",
    "\n",
    "client = OpenAI(\n",
    "    api_key = setting.OPENAI_API_KEY\n",
    ")\n",
    "\n",
    "llm_model = setting.LLM_MODEL"
   ]
  },
  {
   "cell_type": "code",
   "execution_count": 1,
   "id": "caabebfe",
   "metadata": {},
   "outputs": [],
   "source": [
    "from transformers import AutoModelForCausalLM, AutoTokenizer, pipeline, BitsAndBytesConfig\n",
    "import torch\n",
    "\n",
    "from langchain_huggingface import HuggingFacePipeline"
   ]
  },
  {
   "cell_type": "code",
   "execution_count": null,
   "id": "328f18a8",
   "metadata": {},
   "outputs": [],
   "source": [
    "# Model and tokenizer setup\n",
    "model_id = env_values['MODEL_ID']\n",
    "\n",
    "# Configure 8-bit quantization\n",
    "quantization_config = BitsAndBytesConfig(load_in_8bit=True)\n",
    "\n",
    "# Load tokenizer and model\n",
    "tokenizer = AutoTokenizer.from_pretrained(model_id, use_fast=False)\n",
    "base_model = AutoModelForCausalLM.from_pretrained(model_id,\n",
    "                                                quantization_config=quantization_config,\n",
    "                                                device_map='auto')"
   ]
  },
  {
   "cell_type": "code",
   "execution_count": null,
   "id": "5530910f",
   "metadata": {},
   "outputs": [],
   "source": [
    "# Set up pipeline\n",
    "pipe = pipeline(\"text-generation\",\n",
    "                model=base_model,\n",
    "                tokenizer=tokenizer,\n",
    "                max_length=256,\n",
    "                truncation=True,  # Explicitly enable truncation\n",
    "                do_sample=True,\n",
    "                temperature=0.6,\n",
    "                top_p=0.95,\n",
    "                repetition_penalty=1.2)\n",
    "\n",
    "# Initialize LangChain HuggingFacePipeline\n",
    "llm = HuggingFacePipeline(pipeline=pipe)"
   ]
  },
  {
   "cell_type": "code",
   "execution_count": null,
   "id": "c2c57802",
   "metadata": {},
   "outputs": [],
   "source": [
    "template = \"\"\"Below is an instruction that describes a task. Write a response that appropriately completes the request.\n",
    "\n",
    "### Instruction:\n",
    "Suggest 2 ways to lose my weight.\n",
    "\n",
    "Answer:\"\"\"\n",
    "\n",
    "print(llm.invoke(template))"
   ]
  },
  {
   "cell_type": "code",
   "execution_count": null,
   "id": "940cc1d3",
   "metadata": {},
   "outputs": [],
   "source": [
    "prompt_1 = \"\"\"\n",
    "Suggest 2 ways to lose my weight.\n",
    "\"\"\".strip()\n",
    "\n",
    "prompt_2 = \"\"\"\n",
    "Tell me a joke\n",
    "\"\"\".strip()\n",
    "\n",
    "llm_results = llm.generate([ prompt_1, prompt_2 ])\n",
    "llm_results.generations[1][0].text"
   ]
  },
  {
   "cell_type": "code",
   "execution_count": null,
   "id": "c798d105",
   "metadata": {},
   "outputs": [],
   "source": [
    "# Direct pipeline usage\n",
    "pipeline_output = pipe(template, return_full_text=False)\n",
    "print(\"Pipeline Output:\", pipeline_output[0]['generated_text'])"
   ]
  },
  {
   "cell_type": "code",
   "execution_count": null,
   "id": "ece6b00b",
   "metadata": {},
   "outputs": [],
   "source": []
  }
 ],
 "metadata": {
  "kernelspec": {
   "display_name": "LLMS",
   "language": "python",
   "name": "python3"
  },
  "language_info": {
   "codemirror_mode": {
    "name": "ipython",
    "version": 3
   },
   "file_extension": ".py",
   "mimetype": "text/x-python",
   "name": "python",
   "nbconvert_exporter": "python",
   "pygments_lexer": "ipython3",
   "version": "3.13.2"
  }
 },
 "nbformat": 4,
 "nbformat_minor": 5
}
